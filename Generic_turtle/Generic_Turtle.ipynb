{
 "cells": [
  {
   "cell_type": "code",
   "execution_count": 1,
   "metadata": {},
   "outputs": [],
   "source": [
    "import datetime\n",
    "\n",
    "def display(guess):\n",
    "    timeDiff = datetime.datetime.now() - startTime\n",
    "    fitness = get_fitness(guess)\n",
    "    print(\"{0}\\t{1}\\t{2}\".format(guess, fitness, str(timeDiff)))"
   ]
  },
  {
   "cell_type": "code",
   "execution_count": 2,
   "metadata": {},
   "outputs": [],
   "source": [
    "import random\n",
    "\n",
    "def _generate_parent(length, geneSet):\n",
    "    genes = []\n",
    "    while len(genes) < length:\n",
    "        sampleSize = min(length - len(genes), len(geneSet))\n",
    "        genes.extend(random.sample(geneSet, sampleSize))\n",
    "    return genes"
   ]
  },
  {
   "cell_type": "code",
   "execution_count": 3,
   "metadata": {},
   "outputs": [],
   "source": [
    "def _mutate(parent, geneSet):\n",
    "    index = random.randrange(0, len(parent))\n",
    "    childGenes = list(parent)\n",
    "    newGene, alternate = random.sample(geneSet, 2)\n",
    "    childGenes[index] = (alternate  \n",
    "        if newGene == childGenes[index]  \n",
    "        else newGene)\n",
    "    return childGenes"
   ]
  },
  {
   "cell_type": "code",
   "execution_count": 4,
   "metadata": {},
   "outputs": [],
   "source": [
    "def get_best(get_fitness, targetLen, optimalFitness, geneSet, display):\n",
    "    random.seed()\n",
    "    bestParent = _generate_parent(targetLen, geneSet)\n",
    "    bestFitness = get_fitness(bestParent)\n",
    "    display(bestParent)\n",
    "    if bestFitness >= optimalFitness:\n",
    "        return bestParent\n",
    "\n",
    "    while True:\n",
    "        child = _mutate(bestParent, geneSet)\n",
    "        childFitness = get_fitness(child)\n",
    "\n",
    "        if bestFitness >= childFitness:\n",
    "            continue\n",
    "        display(child)\n",
    "        if childFitness >= optimalFitness:\n",
    "            return child\n",
    "        bestFitness = childFitness\n",
    "        bestParent = child"
   ]
  },
  {
   "cell_type": "code",
   "execution_count": 5,
   "metadata": {},
   "outputs": [],
   "source": [
    "from random import choices\n",
    "def test_Hello_World():\n",
    "    target = choices(range(100), k =10)\n",
    "    print(target)\n",
    "    guess_password(target)\n",
    "\n",
    "\n",
    "def guess_password(target):\n",
    "    geneset = list(range(100))\n",
    "    target.sort()\n",
    "\n",
    "    startTime = datetime.datetime.now()\n",
    "\n",
    "    def fnGetFitness(genes):\n",
    "        return get_fitness(genes, target)\n",
    "\n",
    "    def fnDisplay(genes):\n",
    "        display(genes, target, startTime)\n",
    "\n",
    "    optimalFitness = len(target)\n",
    "    print(\"Optimal fintess length\",optimalFitness)\n",
    "    get_best(fnGetFitness, len(target), optimalFitness, geneset, fnDisplay)"
   ]
  },
  {
   "cell_type": "code",
   "execution_count": 6,
   "metadata": {},
   "outputs": [],
   "source": [
    "def get_fitness(genes, target):\n",
    "    return sum(1 for expected, actual in zip(target, genes)\n",
    "               if expected == actual)"
   ]
  },
  {
   "cell_type": "code",
   "execution_count": 7,
   "metadata": {},
   "outputs": [],
   "source": [
    "def display(genes, target, startTime):\n",
    "    timeDiff = datetime.datetime.now() - startTime\n",
    "    fitness = get_fitness(genes, target)\n",
    "    print(\"{0}\\t{1}\\t{2}\".format(genes, fitness, str(timeDiff)))"
   ]
  },
  {
   "cell_type": "code",
   "execution_count": 8,
   "metadata": {},
   "outputs": [
    {
     "name": "stdout",
     "output_type": "stream",
     "text": [
      "[20, 21, 35, 39, 78, 42, 8, 28, 50, 36]\n",
      "Optimal fintess length 10\n",
      "[72, 93, 8, 90, 33, 26, 38, 59, 76, 19]\t0\t0:00:00.003000\n",
      "[72, 93, 8, 90, 35, 26, 38, 59, 76, 19]\t1\t0:00:00.007001\n",
      "[72, 93, 8, 90, 35, 36, 38, 59, 76, 19]\t2\t0:00:00.022002\n",
      "[72, 93, 8, 90, 35, 36, 38, 59, 50, 19]\t3\t0:00:00.025002\n",
      "[8, 93, 8, 90, 35, 36, 38, 59, 50, 19]\t4\t0:00:00.026002\n",
      "[8, 93, 21, 90, 35, 36, 38, 59, 50, 19]\t5\t0:00:00.029002\n",
      "[8, 20, 21, 90, 35, 36, 38, 59, 50, 19]\t6\t0:00:00.031002\n",
      "[8, 20, 21, 90, 35, 36, 38, 42, 50, 19]\t7\t0:00:00.036002\n",
      "[8, 20, 21, 28, 35, 36, 38, 42, 50, 19]\t8\t0:00:00.048003\n",
      "[8, 20, 21, 28, 35, 36, 38, 42, 50, 78]\t9\t0:00:00.052003\n",
      "[8, 20, 21, 28, 35, 36, 39, 42, 50, 78]\t10\t0:00:00.053003\n",
      "Wall time: 55 ms\n"
     ]
    }
   ],
   "source": [
    "%%time\n",
    "test_Hello_World()"
   ]
  },
  {
   "cell_type": "code",
   "execution_count": null,
   "metadata": {},
   "outputs": [],
   "source": []
  }
 ],
 "metadata": {
  "kernelspec": {
   "display_name": "Python 3",
   "language": "python",
   "name": "python3"
  },
  "language_info": {
   "codemirror_mode": {
    "name": "ipython",
    "version": 3
   },
   "file_extension": ".py",
   "mimetype": "text/x-python",
   "name": "python",
   "nbconvert_exporter": "python",
   "pygments_lexer": "ipython3",
   "version": "3.7.3"
  }
 },
 "nbformat": 4,
 "nbformat_minor": 2
}
