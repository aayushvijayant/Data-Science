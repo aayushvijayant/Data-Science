{
 "cells": [
  {
   "cell_type": "markdown",
   "metadata": {},
   "source": [
    "DataSet Source: https://www.kaggle.com/camnugent/sandp500\n",
    "\n",
    "https://new.censusatschool.org.nz/wp-content/uploads/2013/02/Rachel-Passmore-TS-data-sets-2.zip\n",
    "        \n",
    "        "
   ]
  },
  {
   "cell_type": "markdown",
   "metadata": {},
   "source": [
    "Assignment 4: Question 1"
   ]
  },
  {
   "cell_type": "markdown",
   "metadata": {},
   "source": [
    "Prediciting future values using Random Forest Regression:"
   ]
  },
  {
   "cell_type": "code",
   "execution_count": 1,
   "metadata": {},
   "outputs": [],
   "source": [
    "import os\n",
    "cwd = os.getcwd()\n",
    "cwd\n",
    "os.chdir(\"D:\\data science\")"
   ]
  },
  {
   "cell_type": "code",
   "execution_count": 2,
   "metadata": {},
   "outputs": [],
   "source": [
    "import pandas as pd\n",
    "nyc = pd.read_csv('ks.csv')\n",
    "nyc=nyc.drop(\"Date\",axis  =1)\n",
    "nyc=nyc.drop(\"Name\",axis = 1)"
   ]
  },
  {
   "cell_type": "code",
   "execution_count": 3,
   "metadata": {},
   "outputs": [
    {
     "data": {
      "text/html": [
       "<div>\n",
       "<style scoped>\n",
       "    .dataframe tbody tr th:only-of-type {\n",
       "        vertical-align: middle;\n",
       "    }\n",
       "\n",
       "    .dataframe tbody tr th {\n",
       "        vertical-align: top;\n",
       "    }\n",
       "\n",
       "    .dataframe thead th {\n",
       "        text-align: right;\n",
       "    }\n",
       "</style>\n",
       "<table border=\"1\" class=\"dataframe\">\n",
       "  <thead>\n",
       "    <tr style=\"text-align: right;\">\n",
       "      <th></th>\n",
       "      <th>ID</th>\n",
       "      <th>open</th>\n",
       "      <th>high</th>\n",
       "      <th>low</th>\n",
       "      <th>close</th>\n",
       "      <th>volume</th>\n",
       "    </tr>\n",
       "  </thead>\n",
       "  <tbody>\n",
       "    <tr>\n",
       "      <th>0</th>\n",
       "      <td>1</td>\n",
       "      <td>67.7142</td>\n",
       "      <td>68.4014</td>\n",
       "      <td>66.8928</td>\n",
       "      <td>67.8542</td>\n",
       "      <td>158168416</td>\n",
       "    </tr>\n",
       "    <tr>\n",
       "      <th>1</th>\n",
       "      <td>2</td>\n",
       "      <td>68.0714</td>\n",
       "      <td>69.2771</td>\n",
       "      <td>67.6071</td>\n",
       "      <td>68.5614</td>\n",
       "      <td>129029425</td>\n",
       "    </tr>\n",
       "    <tr>\n",
       "      <th>2</th>\n",
       "      <td>3</td>\n",
       "      <td>68.5014</td>\n",
       "      <td>68.9114</td>\n",
       "      <td>66.8205</td>\n",
       "      <td>66.8428</td>\n",
       "      <td>151829363</td>\n",
       "    </tr>\n",
       "    <tr>\n",
       "      <th>3</th>\n",
       "      <td>4</td>\n",
       "      <td>66.7442</td>\n",
       "      <td>67.6628</td>\n",
       "      <td>66.1742</td>\n",
       "      <td>66.7156</td>\n",
       "      <td>118721995</td>\n",
       "    </tr>\n",
       "    <tr>\n",
       "      <th>4</th>\n",
       "      <td>5</td>\n",
       "      <td>66.3599</td>\n",
       "      <td>67.3771</td>\n",
       "      <td>66.2885</td>\n",
       "      <td>66.6556</td>\n",
       "      <td>88809154</td>\n",
       "    </tr>\n",
       "  </tbody>\n",
       "</table>\n",
       "</div>"
      ],
      "text/plain": [
       "   ID     open     high      low    close     volume\n",
       "0   1  67.7142  68.4014  66.8928  67.8542  158168416\n",
       "1   2  68.0714  69.2771  67.6071  68.5614  129029425\n",
       "2   3  68.5014  68.9114  66.8205  66.8428  151829363\n",
       "3   4  66.7442  67.6628  66.1742  66.7156  118721995\n",
       "4   5  66.3599  67.3771  66.2885  66.6556   88809154"
      ]
     },
     "execution_count": 3,
     "metadata": {},
     "output_type": "execute_result"
    }
   ],
   "source": [
    "nyc.head()"
   ]
  },
  {
   "cell_type": "code",
   "execution_count": 4,
   "metadata": {},
   "outputs": [],
   "source": [
    "from sklearn.ensemble import RandomForestRegressor\n",
    "from sklearn import metrics\n",
    "from sklearn.model_selection import train_test_split"
   ]
  },
  {
   "cell_type": "code",
   "execution_count": 5,
   "metadata": {},
   "outputs": [
    {
     "data": {
      "text/plain": [
       "Index(['ID', 'open', 'high', 'low', 'close', 'volume'], dtype='object')"
      ]
     },
     "execution_count": 5,
     "metadata": {},
     "output_type": "execute_result"
    }
   ],
   "source": [
    "nyc.columns"
   ]
  },
  {
   "cell_type": "code",
   "execution_count": 6,
   "metadata": {},
   "outputs": [
    {
     "data": {
      "text/html": [
       "<div>\n",
       "<style scoped>\n",
       "    .dataframe tbody tr th:only-of-type {\n",
       "        vertical-align: middle;\n",
       "    }\n",
       "\n",
       "    .dataframe tbody tr th {\n",
       "        vertical-align: top;\n",
       "    }\n",
       "\n",
       "    .dataframe thead th {\n",
       "        text-align: right;\n",
       "    }\n",
       "</style>\n",
       "<table border=\"1\" class=\"dataframe\">\n",
       "  <thead>\n",
       "    <tr style=\"text-align: right;\">\n",
       "      <th></th>\n",
       "      <th>close</th>\n",
       "      <th>close</th>\n",
       "    </tr>\n",
       "  </thead>\n",
       "  <tbody>\n",
       "    <tr>\n",
       "      <th>0</th>\n",
       "      <td>67.8542</td>\n",
       "      <td>68.5614</td>\n",
       "    </tr>\n",
       "    <tr>\n",
       "      <th>1</th>\n",
       "      <td>68.5614</td>\n",
       "      <td>66.8428</td>\n",
       "    </tr>\n",
       "    <tr>\n",
       "      <th>2</th>\n",
       "      <td>66.8428</td>\n",
       "      <td>66.7156</td>\n",
       "    </tr>\n",
       "    <tr>\n",
       "      <th>3</th>\n",
       "      <td>66.7156</td>\n",
       "      <td>66.6556</td>\n",
       "    </tr>\n",
       "    <tr>\n",
       "      <th>4</th>\n",
       "      <td>66.6556</td>\n",
       "      <td>65.7371</td>\n",
       "    </tr>\n",
       "    <tr>\n",
       "      <th>5</th>\n",
       "      <td>65.7371</td>\n",
       "      <td>65.7128</td>\n",
       "    </tr>\n",
       "    <tr>\n",
       "      <th>6</th>\n",
       "      <td>65.7128</td>\n",
       "      <td>64.1214</td>\n",
       "    </tr>\n",
       "    <tr>\n",
       "      <th>7</th>\n",
       "      <td>64.1214</td>\n",
       "      <td>63.7228</td>\n",
       "    </tr>\n",
       "    <tr>\n",
       "      <th>8</th>\n",
       "      <td>63.7228</td>\n",
       "      <td>64.4014</td>\n",
       "    </tr>\n",
       "    <tr>\n",
       "      <th>9</th>\n",
       "      <td>64.4014</td>\n",
       "      <td>63.2571</td>\n",
       "    </tr>\n",
       "    <tr>\n",
       "      <th>10</th>\n",
       "      <td>63.2571</td>\n",
       "      <td>64.1385</td>\n",
       "    </tr>\n",
       "    <tr>\n",
       "      <th>11</th>\n",
       "      <td>64.1385</td>\n",
       "      <td>63.5099</td>\n",
       "    </tr>\n",
       "    <tr>\n",
       "      <th>12</th>\n",
       "      <td>63.5099</td>\n",
       "      <td>63.0571</td>\n",
       "    </tr>\n",
       "    <tr>\n",
       "      <th>13</th>\n",
       "      <td>63.0571</td>\n",
       "      <td>61.4957</td>\n",
       "    </tr>\n",
       "    <tr>\n",
       "      <th>14</th>\n",
       "      <td>61.4957</td>\n",
       "      <td>60.0071</td>\n",
       "    </tr>\n",
       "    <tr>\n",
       "      <th>15</th>\n",
       "      <td>60.0071</td>\n",
       "      <td>61.5919</td>\n",
       "    </tr>\n",
       "    <tr>\n",
       "      <th>16</th>\n",
       "      <td>61.5919</td>\n",
       "      <td>60.8088</td>\n",
       "    </tr>\n",
       "    <tr>\n",
       "      <th>17</th>\n",
       "      <td>60.8088</td>\n",
       "      <td>61.5117</td>\n",
       "    </tr>\n",
       "    <tr>\n",
       "      <th>18</th>\n",
       "      <td>61.5117</td>\n",
       "      <td>61.6742</td>\n",
       "    </tr>\n",
       "    <tr>\n",
       "      <th>19</th>\n",
       "      <td>61.6742</td>\n",
       "      <td>62.5528</td>\n",
       "    </tr>\n",
       "    <tr>\n",
       "      <th>20</th>\n",
       "      <td>62.5528</td>\n",
       "      <td>61.2042</td>\n",
       "    </tr>\n",
       "    <tr>\n",
       "      <th>21</th>\n",
       "      <td>61.2042</td>\n",
       "      <td>61.1928</td>\n",
       "    </tr>\n",
       "    <tr>\n",
       "      <th>22</th>\n",
       "      <td>61.1928</td>\n",
       "      <td>61.7857</td>\n",
       "    </tr>\n",
       "    <tr>\n",
       "      <th>23</th>\n",
       "      <td>61.7857</td>\n",
       "      <td>63.3799</td>\n",
       "    </tr>\n",
       "    <tr>\n",
       "      <th>24</th>\n",
       "      <td>63.3799</td>\n",
       "      <td>65.1028</td>\n",
       "    </tr>\n",
       "    <tr>\n",
       "      <th>25</th>\n",
       "      <td>65.1028</td>\n",
       "      <td>64.9271</td>\n",
       "    </tr>\n",
       "    <tr>\n",
       "      <th>26</th>\n",
       "      <td>64.9271</td>\n",
       "      <td>64.5828</td>\n",
       "    </tr>\n",
       "    <tr>\n",
       "      <th>27</th>\n",
       "      <td>64.5828</td>\n",
       "      <td>64.6756</td>\n",
       "    </tr>\n",
       "    <tr>\n",
       "      <th>28</th>\n",
       "      <td>64.6756</td>\n",
       "      <td>65.9871</td>\n",
       "    </tr>\n",
       "    <tr>\n",
       "      <th>29</th>\n",
       "      <td>65.9871</td>\n",
       "      <td>66.2256</td>\n",
       "    </tr>\n",
       "    <tr>\n",
       "      <th>...</th>\n",
       "      <td>...</td>\n",
       "      <td>...</td>\n",
       "    </tr>\n",
       "    <tr>\n",
       "      <th>1229</th>\n",
       "      <td>170.5700</td>\n",
       "      <td>170.6000</td>\n",
       "    </tr>\n",
       "    <tr>\n",
       "      <th>1230</th>\n",
       "      <td>170.6000</td>\n",
       "      <td>171.0800</td>\n",
       "    </tr>\n",
       "    <tr>\n",
       "      <th>1231</th>\n",
       "      <td>171.0800</td>\n",
       "      <td>169.2300</td>\n",
       "    </tr>\n",
       "    <tr>\n",
       "      <th>1232</th>\n",
       "      <td>169.2300</td>\n",
       "      <td>172.2600</td>\n",
       "    </tr>\n",
       "    <tr>\n",
       "      <th>1233</th>\n",
       "      <td>172.2600</td>\n",
       "      <td>172.2300</td>\n",
       "    </tr>\n",
       "    <tr>\n",
       "      <th>1234</th>\n",
       "      <td>172.2300</td>\n",
       "      <td>173.0300</td>\n",
       "    </tr>\n",
       "    <tr>\n",
       "      <th>1235</th>\n",
       "      <td>173.0300</td>\n",
       "      <td>175.0000</td>\n",
       "    </tr>\n",
       "    <tr>\n",
       "      <th>1236</th>\n",
       "      <td>175.0000</td>\n",
       "      <td>174.3500</td>\n",
       "    </tr>\n",
       "    <tr>\n",
       "      <th>1237</th>\n",
       "      <td>174.3500</td>\n",
       "      <td>174.3300</td>\n",
       "    </tr>\n",
       "    <tr>\n",
       "      <th>1238</th>\n",
       "      <td>174.3300</td>\n",
       "      <td>174.2900</td>\n",
       "    </tr>\n",
       "    <tr>\n",
       "      <th>1239</th>\n",
       "      <td>174.2900</td>\n",
       "      <td>175.2800</td>\n",
       "    </tr>\n",
       "    <tr>\n",
       "      <th>1240</th>\n",
       "      <td>175.2800</td>\n",
       "      <td>177.0900</td>\n",
       "    </tr>\n",
       "    <tr>\n",
       "      <th>1241</th>\n",
       "      <td>177.0900</td>\n",
       "      <td>176.1900</td>\n",
       "    </tr>\n",
       "    <tr>\n",
       "      <th>1242</th>\n",
       "      <td>176.1900</td>\n",
       "      <td>179.1000</td>\n",
       "    </tr>\n",
       "    <tr>\n",
       "      <th>1243</th>\n",
       "      <td>179.1000</td>\n",
       "      <td>179.2600</td>\n",
       "    </tr>\n",
       "    <tr>\n",
       "      <th>1244</th>\n",
       "      <td>179.2600</td>\n",
       "      <td>178.4600</td>\n",
       "    </tr>\n",
       "    <tr>\n",
       "      <th>1245</th>\n",
       "      <td>178.4600</td>\n",
       "      <td>177.0000</td>\n",
       "    </tr>\n",
       "    <tr>\n",
       "      <th>1246</th>\n",
       "      <td>177.0000</td>\n",
       "      <td>177.0400</td>\n",
       "    </tr>\n",
       "    <tr>\n",
       "      <th>1247</th>\n",
       "      <td>177.0400</td>\n",
       "      <td>174.2200</td>\n",
       "    </tr>\n",
       "    <tr>\n",
       "      <th>1248</th>\n",
       "      <td>174.2200</td>\n",
       "      <td>171.1100</td>\n",
       "    </tr>\n",
       "    <tr>\n",
       "      <th>1249</th>\n",
       "      <td>171.1100</td>\n",
       "      <td>171.5100</td>\n",
       "    </tr>\n",
       "    <tr>\n",
       "      <th>1250</th>\n",
       "      <td>171.5100</td>\n",
       "      <td>167.9600</td>\n",
       "    </tr>\n",
       "    <tr>\n",
       "      <th>1251</th>\n",
       "      <td>167.9600</td>\n",
       "      <td>166.9700</td>\n",
       "    </tr>\n",
       "    <tr>\n",
       "      <th>1252</th>\n",
       "      <td>166.9700</td>\n",
       "      <td>167.4300</td>\n",
       "    </tr>\n",
       "    <tr>\n",
       "      <th>1253</th>\n",
       "      <td>167.4300</td>\n",
       "      <td>167.7800</td>\n",
       "    </tr>\n",
       "    <tr>\n",
       "      <th>1254</th>\n",
       "      <td>167.7800</td>\n",
       "      <td>160.5000</td>\n",
       "    </tr>\n",
       "    <tr>\n",
       "      <th>1255</th>\n",
       "      <td>160.5000</td>\n",
       "      <td>156.4900</td>\n",
       "    </tr>\n",
       "    <tr>\n",
       "      <th>1256</th>\n",
       "      <td>156.4900</td>\n",
       "      <td>163.0300</td>\n",
       "    </tr>\n",
       "    <tr>\n",
       "      <th>1257</th>\n",
       "      <td>163.0300</td>\n",
       "      <td>159.5400</td>\n",
       "    </tr>\n",
       "    <tr>\n",
       "      <th>1258</th>\n",
       "      <td>159.5400</td>\n",
       "      <td>NaN</td>\n",
       "    </tr>\n",
       "  </tbody>\n",
       "</table>\n",
       "<p>1259 rows × 2 columns</p>\n",
       "</div>"
      ],
      "text/plain": [
       "         close     close\n",
       "0      67.8542   68.5614\n",
       "1      68.5614   66.8428\n",
       "2      66.8428   66.7156\n",
       "3      66.7156   66.6556\n",
       "4      66.6556   65.7371\n",
       "5      65.7371   65.7128\n",
       "6      65.7128   64.1214\n",
       "7      64.1214   63.7228\n",
       "8      63.7228   64.4014\n",
       "9      64.4014   63.2571\n",
       "10     63.2571   64.1385\n",
       "11     64.1385   63.5099\n",
       "12     63.5099   63.0571\n",
       "13     63.0571   61.4957\n",
       "14     61.4957   60.0071\n",
       "15     60.0071   61.5919\n",
       "16     61.5919   60.8088\n",
       "17     60.8088   61.5117\n",
       "18     61.5117   61.6742\n",
       "19     61.6742   62.5528\n",
       "20     62.5528   61.2042\n",
       "21     61.2042   61.1928\n",
       "22     61.1928   61.7857\n",
       "23     61.7857   63.3799\n",
       "24     63.3799   65.1028\n",
       "25     65.1028   64.9271\n",
       "26     64.9271   64.5828\n",
       "27     64.5828   64.6756\n",
       "28     64.6756   65.9871\n",
       "29     65.9871   66.2256\n",
       "...        ...       ...\n",
       "1229  170.5700  170.6000\n",
       "1230  170.6000  171.0800\n",
       "1231  171.0800  169.2300\n",
       "1232  169.2300  172.2600\n",
       "1233  172.2600  172.2300\n",
       "1234  172.2300  173.0300\n",
       "1235  173.0300  175.0000\n",
       "1236  175.0000  174.3500\n",
       "1237  174.3500  174.3300\n",
       "1238  174.3300  174.2900\n",
       "1239  174.2900  175.2800\n",
       "1240  175.2800  177.0900\n",
       "1241  177.0900  176.1900\n",
       "1242  176.1900  179.1000\n",
       "1243  179.1000  179.2600\n",
       "1244  179.2600  178.4600\n",
       "1245  178.4600  177.0000\n",
       "1246  177.0000  177.0400\n",
       "1247  177.0400  174.2200\n",
       "1248  174.2200  171.1100\n",
       "1249  171.1100  171.5100\n",
       "1250  171.5100  167.9600\n",
       "1251  167.9600  166.9700\n",
       "1252  166.9700  167.4300\n",
       "1253  167.4300  167.7800\n",
       "1254  167.7800  160.5000\n",
       "1255  160.5000  156.4900\n",
       "1256  156.4900  163.0300\n",
       "1257  163.0300  159.5400\n",
       "1258  159.5400       NaN\n",
       "\n",
       "[1259 rows x 2 columns]"
      ]
     },
     "execution_count": 6,
     "metadata": {},
     "output_type": "execute_result"
    }
   ],
   "source": [
    "pd.concat([nyc.close, nyc.close.shift(-1)], axis=1)"
   ]
  },
  {
   "cell_type": "code",
   "execution_count": 7,
   "metadata": {},
   "outputs": [],
   "source": [
    "X = nyc[[x for x in nyc.columns]]\n"
   ]
  },
  {
   "cell_type": "code",
   "execution_count": 8,
   "metadata": {},
   "outputs": [],
   "source": [
    "X = X.drop(X.index[1158:1259])"
   ]
  },
  {
   "cell_type": "code",
   "execution_count": 9,
   "metadata": {},
   "outputs": [
    {
     "data": {
      "text/html": [
       "<div>\n",
       "<style scoped>\n",
       "    .dataframe tbody tr th:only-of-type {\n",
       "        vertical-align: middle;\n",
       "    }\n",
       "\n",
       "    .dataframe tbody tr th {\n",
       "        vertical-align: top;\n",
       "    }\n",
       "\n",
       "    .dataframe thead th {\n",
       "        text-align: right;\n",
       "    }\n",
       "</style>\n",
       "<table border=\"1\" class=\"dataframe\">\n",
       "  <thead>\n",
       "    <tr style=\"text-align: right;\">\n",
       "      <th></th>\n",
       "      <th>0</th>\n",
       "      <th>1</th>\n",
       "      <th>2</th>\n",
       "      <th>3</th>\n",
       "      <th>4</th>\n",
       "      <th>5</th>\n",
       "      <th>6</th>\n",
       "      <th>7</th>\n",
       "      <th>8</th>\n",
       "      <th>9</th>\n",
       "      <th>...</th>\n",
       "      <th>1148</th>\n",
       "      <th>1149</th>\n",
       "      <th>1150</th>\n",
       "      <th>1151</th>\n",
       "      <th>1152</th>\n",
       "      <th>1153</th>\n",
       "      <th>1154</th>\n",
       "      <th>1155</th>\n",
       "      <th>1156</th>\n",
       "      <th>1157</th>\n",
       "    </tr>\n",
       "  </thead>\n",
       "  <tbody>\n",
       "    <tr>\n",
       "      <th>ID</th>\n",
       "      <td>1.000000e+00</td>\n",
       "      <td>2.000000e+00</td>\n",
       "      <td>3.000000e+00</td>\n",
       "      <td>4.000000e+00</td>\n",
       "      <td>5.000000e+00</td>\n",
       "      <td>6.000000e+00</td>\n",
       "      <td>7.000000e+00</td>\n",
       "      <td>8.000000e+00</td>\n",
       "      <td>9.000000e+00</td>\n",
       "      <td>1.000000e+01</td>\n",
       "      <td>...</td>\n",
       "      <td>1149.00</td>\n",
       "      <td>1150.00</td>\n",
       "      <td>1151.00</td>\n",
       "      <td>1152.00</td>\n",
       "      <td>1153.00</td>\n",
       "      <td>1154.00</td>\n",
       "      <td>1155.00</td>\n",
       "      <td>1156.00</td>\n",
       "      <td>1157.00</td>\n",
       "      <td>1158.00</td>\n",
       "    </tr>\n",
       "    <tr>\n",
       "      <th>open</th>\n",
       "      <td>6.771420e+01</td>\n",
       "      <td>6.807140e+01</td>\n",
       "      <td>6.850140e+01</td>\n",
       "      <td>6.674420e+01</td>\n",
       "      <td>6.635990e+01</td>\n",
       "      <td>6.697850e+01</td>\n",
       "      <td>6.587140e+01</td>\n",
       "      <td>6.538420e+01</td>\n",
       "      <td>6.371420e+01</td>\n",
       "      <td>6.417850e+01</td>\n",
       "      <td>...</td>\n",
       "      <td>163.80</td>\n",
       "      <td>163.64</td>\n",
       "      <td>164.80</td>\n",
       "      <td>163.75</td>\n",
       "      <td>162.71</td>\n",
       "      <td>162.09</td>\n",
       "      <td>160.86</td>\n",
       "      <td>160.50</td>\n",
       "      <td>162.61</td>\n",
       "      <td>159.87</td>\n",
       "    </tr>\n",
       "    <tr>\n",
       "      <th>high</th>\n",
       "      <td>6.840140e+01</td>\n",
       "      <td>6.927710e+01</td>\n",
       "      <td>6.891140e+01</td>\n",
       "      <td>6.766280e+01</td>\n",
       "      <td>6.737710e+01</td>\n",
       "      <td>6.716560e+01</td>\n",
       "      <td>6.610420e+01</td>\n",
       "      <td>6.538420e+01</td>\n",
       "      <td>6.416710e+01</td>\n",
       "      <td>6.451420e+01</td>\n",
       "      <td>...</td>\n",
       "      <td>163.89</td>\n",
       "      <td>164.52</td>\n",
       "      <td>164.94</td>\n",
       "      <td>164.25</td>\n",
       "      <td>162.99</td>\n",
       "      <td>162.24</td>\n",
       "      <td>161.15</td>\n",
       "      <td>162.05</td>\n",
       "      <td>163.96</td>\n",
       "      <td>159.96</td>\n",
       "    </tr>\n",
       "    <tr>\n",
       "      <th>low</th>\n",
       "      <td>6.689280e+01</td>\n",
       "      <td>6.760710e+01</td>\n",
       "      <td>6.682050e+01</td>\n",
       "      <td>6.617420e+01</td>\n",
       "      <td>6.628850e+01</td>\n",
       "      <td>6.570280e+01</td>\n",
       "      <td>6.483560e+01</td>\n",
       "      <td>6.411420e+01</td>\n",
       "      <td>6.325990e+01</td>\n",
       "      <td>6.379990e+01</td>\n",
       "      <td>...</td>\n",
       "      <td>162.61</td>\n",
       "      <td>163.48</td>\n",
       "      <td>163.63</td>\n",
       "      <td>160.56</td>\n",
       "      <td>160.52</td>\n",
       "      <td>160.36</td>\n",
       "      <td>158.53</td>\n",
       "      <td>159.89</td>\n",
       "      <td>158.77</td>\n",
       "      <td>157.91</td>\n",
       "    </tr>\n",
       "    <tr>\n",
       "      <th>close</th>\n",
       "      <td>6.785420e+01</td>\n",
       "      <td>6.856140e+01</td>\n",
       "      <td>6.684280e+01</td>\n",
       "      <td>6.671560e+01</td>\n",
       "      <td>6.665560e+01</td>\n",
       "      <td>6.573710e+01</td>\n",
       "      <td>6.571280e+01</td>\n",
       "      <td>6.412140e+01</td>\n",
       "      <td>6.372280e+01</td>\n",
       "      <td>6.440140e+01</td>\n",
       "      <td>...</td>\n",
       "      <td>163.35</td>\n",
       "      <td>164.00</td>\n",
       "      <td>164.05</td>\n",
       "      <td>162.08</td>\n",
       "      <td>161.91</td>\n",
       "      <td>161.26</td>\n",
       "      <td>158.63</td>\n",
       "      <td>161.50</td>\n",
       "      <td>160.86</td>\n",
       "      <td>159.65</td>\n",
       "    </tr>\n",
       "    <tr>\n",
       "      <th>volume</th>\n",
       "      <td>1.581684e+08</td>\n",
       "      <td>1.290294e+08</td>\n",
       "      <td>1.518294e+08</td>\n",
       "      <td>1.187220e+08</td>\n",
       "      <td>8.880915e+07</td>\n",
       "      <td>9.792463e+07</td>\n",
       "      <td>1.088540e+08</td>\n",
       "      <td>1.188914e+08</td>\n",
       "      <td>1.115968e+08</td>\n",
       "      <td>8.258382e+07</td>\n",
       "      <td>...</td>\n",
       "      <td>27269584.00</td>\n",
       "      <td>26785096.00</td>\n",
       "      <td>16591051.00</td>\n",
       "      <td>29536314.00</td>\n",
       "      <td>21651726.00</td>\n",
       "      <td>21928502.00</td>\n",
       "      <td>28611535.00</td>\n",
       "      <td>31580798.00</td>\n",
       "      <td>71714046.00</td>\n",
       "      <td>44907361.00</td>\n",
       "    </tr>\n",
       "  </tbody>\n",
       "</table>\n",
       "<p>6 rows × 1158 columns</p>\n",
       "</div>"
      ],
      "text/plain": [
       "                0             1             2             3             4     \\\n",
       "ID      1.000000e+00  2.000000e+00  3.000000e+00  4.000000e+00  5.000000e+00   \n",
       "open    6.771420e+01  6.807140e+01  6.850140e+01  6.674420e+01  6.635990e+01   \n",
       "high    6.840140e+01  6.927710e+01  6.891140e+01  6.766280e+01  6.737710e+01   \n",
       "low     6.689280e+01  6.760710e+01  6.682050e+01  6.617420e+01  6.628850e+01   \n",
       "close   6.785420e+01  6.856140e+01  6.684280e+01  6.671560e+01  6.665560e+01   \n",
       "volume  1.581684e+08  1.290294e+08  1.518294e+08  1.187220e+08  8.880915e+07   \n",
       "\n",
       "                5             6             7             8             9     \\\n",
       "ID      6.000000e+00  7.000000e+00  8.000000e+00  9.000000e+00  1.000000e+01   \n",
       "open    6.697850e+01  6.587140e+01  6.538420e+01  6.371420e+01  6.417850e+01   \n",
       "high    6.716560e+01  6.610420e+01  6.538420e+01  6.416710e+01  6.451420e+01   \n",
       "low     6.570280e+01  6.483560e+01  6.411420e+01  6.325990e+01  6.379990e+01   \n",
       "close   6.573710e+01  6.571280e+01  6.412140e+01  6.372280e+01  6.440140e+01   \n",
       "volume  9.792463e+07  1.088540e+08  1.188914e+08  1.115968e+08  8.258382e+07   \n",
       "\n",
       "        ...         1148         1149         1150         1151         1152  \\\n",
       "ID      ...      1149.00      1150.00      1151.00      1152.00      1153.00   \n",
       "open    ...       163.80       163.64       164.80       163.75       162.71   \n",
       "high    ...       163.89       164.52       164.94       164.25       162.99   \n",
       "low     ...       162.61       163.48       163.63       160.56       160.52   \n",
       "close   ...       163.35       164.00       164.05       162.08       161.91   \n",
       "volume  ...  27269584.00  26785096.00  16591051.00  29536314.00  21651726.00   \n",
       "\n",
       "               1153         1154         1155         1156         1157  \n",
       "ID          1154.00      1155.00      1156.00      1157.00      1158.00  \n",
       "open         162.09       160.86       160.50       162.61       159.87  \n",
       "high         162.24       161.15       162.05       163.96       159.96  \n",
       "low          160.36       158.53       159.89       158.77       157.91  \n",
       "close        161.26       158.63       161.50       160.86       159.65  \n",
       "volume  21928502.00  28611535.00  31580798.00  71714046.00  44907361.00  \n",
       "\n",
       "[6 rows x 1158 columns]"
      ]
     },
     "execution_count": 9,
     "metadata": {},
     "output_type": "execute_result"
    }
   ],
   "source": [
    "X.T"
   ]
  },
  {
   "cell_type": "code",
   "execution_count": 10,
   "metadata": {},
   "outputs": [],
   "source": [
    "y = nyc.close.shift(-101).dropna()"
   ]
  },
  {
   "cell_type": "code",
   "execution_count": 11,
   "metadata": {},
   "outputs": [],
   "source": [
    "X_train, X_test, y_train, y_test = train_test_split(X, y, random_state=42)"
   ]
  },
  {
   "cell_type": "code",
   "execution_count": 12,
   "metadata": {},
   "outputs": [
    {
     "name": "stderr",
     "output_type": "stream",
     "text": [
      "C:\\ProgramData\\Anaconda3\\lib\\site-packages\\sklearn\\ensemble\\forest.py:245: FutureWarning: The default value of n_estimators will change from 10 in version 0.20 to 100 in 0.22.\n",
      "  \"10 in version 0.20 to 100 in 0.22.\", FutureWarning)\n"
     ]
    },
    {
     "data": {
      "text/plain": [
       "RandomForestRegressor(bootstrap=True, criterion='mse', max_depth=None,\n",
       "                      max_features='auto', max_leaf_nodes=None,\n",
       "                      min_impurity_decrease=0.0, min_impurity_split=None,\n",
       "                      min_samples_leaf=1, min_samples_split=2,\n",
       "                      min_weight_fraction_leaf=0.0, n_estimators=10,\n",
       "                      n_jobs=None, oob_score=False, random_state=None,\n",
       "                      verbose=0, warm_start=False)"
      ]
     },
     "execution_count": 12,
     "metadata": {},
     "output_type": "execute_result"
    }
   ],
   "source": [
    "rf_model = RandomForestRegressor()\n",
    "rf_model.fit(X_train, y_train)"
   ]
  },
  {
   "cell_type": "code",
   "execution_count": 13,
   "metadata": {},
   "outputs": [
    {
     "data": {
      "text/plain": [
       "0.9944199842586355"
      ]
     },
     "execution_count": 13,
     "metadata": {},
     "output_type": "execute_result"
    }
   ],
   "source": [
    "rf_model.score(X_test, y_test)"
   ]
  },
  {
   "cell_type": "markdown",
   "metadata": {},
   "source": [
    "78% Accuracy"
   ]
  },
  {
   "cell_type": "markdown",
   "metadata": {},
   "source": [
    "Calculating Feature Importance:"
   ]
  },
  {
   "cell_type": "code",
   "execution_count": 14,
   "metadata": {},
   "outputs": [],
   "source": [
    "import numpy as np"
   ]
  },
  {
   "cell_type": "code",
   "execution_count": 15,
   "metadata": {},
   "outputs": [],
   "source": [
    "file= pd.read_csv(\"ks.csv\")\n",
    "file= file.drop(\"Date\",axis = 1)\n",
    "file= file.drop(\"Name\",axis = 1)\n",
    "x= pd.DataFrame(file)\n",
    "y= pd.Series(file['close'])"
   ]
  },
  {
   "cell_type": "code",
   "execution_count": 16,
   "metadata": {},
   "outputs": [
    {
     "data": {
      "text/plain": [
       "0        67.8542\n",
       "1        68.5614\n",
       "2        66.8428\n",
       "3        66.7156\n",
       "4        66.6556\n",
       "5        65.7371\n",
       "6        65.7128\n",
       "7        64.1214\n",
       "8        63.7228\n",
       "9        64.4014\n",
       "10       63.2571\n",
       "11       64.1385\n",
       "12       63.5099\n",
       "13       63.0571\n",
       "14       61.4957\n",
       "15       60.0071\n",
       "16       61.5919\n",
       "17       60.8088\n",
       "18       61.5117\n",
       "19       61.6742\n",
       "20       62.5528\n",
       "21       61.2042\n",
       "22       61.1928\n",
       "23       61.7857\n",
       "24       63.3799\n",
       "25       65.1028\n",
       "26       64.9271\n",
       "27       64.5828\n",
       "28       64.6756\n",
       "29       65.9871\n",
       "          ...   \n",
       "1229    170.5700\n",
       "1230    170.6000\n",
       "1231    171.0800\n",
       "1232    169.2300\n",
       "1233    172.2600\n",
       "1234    172.2300\n",
       "1235    173.0300\n",
       "1236    175.0000\n",
       "1237    174.3500\n",
       "1238    174.3300\n",
       "1239    174.2900\n",
       "1240    175.2800\n",
       "1241    177.0900\n",
       "1242    176.1900\n",
       "1243    179.1000\n",
       "1244    179.2600\n",
       "1245    178.4600\n",
       "1246    177.0000\n",
       "1247    177.0400\n",
       "1248    174.2200\n",
       "1249    171.1100\n",
       "1250    171.5100\n",
       "1251    167.9600\n",
       "1252    166.9700\n",
       "1253    167.4300\n",
       "1254    167.7800\n",
       "1255    160.5000\n",
       "1256    156.4900\n",
       "1257    163.0300\n",
       "1258    159.5400\n",
       "Name: close, Length: 1259, dtype: float64"
      ]
     },
     "execution_count": 16,
     "metadata": {},
     "output_type": "execute_result"
    }
   ],
   "source": [
    "y\n"
   ]
  },
  {
   "cell_type": "code",
   "execution_count": 17,
   "metadata": {},
   "outputs": [
    {
     "data": {
      "text/plain": [
       "array([ 67.8542,  68.5614,  66.8428, ..., 156.49  , 163.03  , 159.54  ])"
      ]
     },
     "execution_count": 17,
     "metadata": {},
     "output_type": "execute_result"
    }
   ],
   "source": [
    "y.values"
   ]
  },
  {
   "cell_type": "code",
   "execution_count": 18,
   "metadata": {},
   "outputs": [
    {
     "data": {
      "text/html": [
       "<div>\n",
       "<style scoped>\n",
       "    .dataframe tbody tr th:only-of-type {\n",
       "        vertical-align: middle;\n",
       "    }\n",
       "\n",
       "    .dataframe tbody tr th {\n",
       "        vertical-align: top;\n",
       "    }\n",
       "\n",
       "    .dataframe thead th {\n",
       "        text-align: right;\n",
       "    }\n",
       "</style>\n",
       "<table border=\"1\" class=\"dataframe\">\n",
       "  <thead>\n",
       "    <tr style=\"text-align: right;\">\n",
       "      <th></th>\n",
       "      <th>ID</th>\n",
       "      <th>open</th>\n",
       "      <th>high</th>\n",
       "      <th>low</th>\n",
       "      <th>close</th>\n",
       "      <th>volume</th>\n",
       "    </tr>\n",
       "  </thead>\n",
       "  <tbody>\n",
       "    <tr>\n",
       "      <th>0</th>\n",
       "      <td>1</td>\n",
       "      <td>67.7142</td>\n",
       "      <td>68.4014</td>\n",
       "      <td>66.8928</td>\n",
       "      <td>67.8542</td>\n",
       "      <td>158168416</td>\n",
       "    </tr>\n",
       "    <tr>\n",
       "      <th>1</th>\n",
       "      <td>2</td>\n",
       "      <td>68.0714</td>\n",
       "      <td>69.2771</td>\n",
       "      <td>67.6071</td>\n",
       "      <td>68.5614</td>\n",
       "      <td>129029425</td>\n",
       "    </tr>\n",
       "    <tr>\n",
       "      <th>2</th>\n",
       "      <td>3</td>\n",
       "      <td>68.5014</td>\n",
       "      <td>68.9114</td>\n",
       "      <td>66.8205</td>\n",
       "      <td>66.8428</td>\n",
       "      <td>151829363</td>\n",
       "    </tr>\n",
       "    <tr>\n",
       "      <th>3</th>\n",
       "      <td>4</td>\n",
       "      <td>66.7442</td>\n",
       "      <td>67.6628</td>\n",
       "      <td>66.1742</td>\n",
       "      <td>66.7156</td>\n",
       "      <td>118721995</td>\n",
       "    </tr>\n",
       "    <tr>\n",
       "      <th>4</th>\n",
       "      <td>5</td>\n",
       "      <td>66.3599</td>\n",
       "      <td>67.3771</td>\n",
       "      <td>66.2885</td>\n",
       "      <td>66.6556</td>\n",
       "      <td>88809154</td>\n",
       "    </tr>\n",
       "  </tbody>\n",
       "</table>\n",
       "</div>"
      ],
      "text/plain": [
       "   ID     open     high      low    close     volume\n",
       "0   1  67.7142  68.4014  66.8928  67.8542  158168416\n",
       "1   2  68.0714  69.2771  67.6071  68.5614  129029425\n",
       "2   3  68.5014  68.9114  66.8205  66.8428  151829363\n",
       "3   4  66.7442  67.6628  66.1742  66.7156  118721995\n",
       "4   5  66.3599  67.3771  66.2885  66.6556   88809154"
      ]
     },
     "execution_count": 18,
     "metadata": {},
     "output_type": "execute_result"
    }
   ],
   "source": [
    "file.head()"
   ]
  },
  {
   "cell_type": "code",
   "execution_count": 19,
   "metadata": {},
   "outputs": [],
   "source": [
    "from sklearn.ensemble import RandomForestRegressor"
   ]
  },
  {
   "cell_type": "code",
   "execution_count": 20,
   "metadata": {},
   "outputs": [],
   "source": [
    "from sklearn.model_selection import train_test_split"
   ]
  },
  {
   "cell_type": "code",
   "execution_count": 21,
   "metadata": {},
   "outputs": [],
   "source": [
    "train_features, test_features, train_labels, test_labels = train_test_split(x.values, y.values, test_size = 0.25,\n",
    "                                                                           random_state = 42)"
   ]
  },
  {
   "cell_type": "code",
   "execution_count": 22,
   "metadata": {},
   "outputs": [],
   "source": [
    "from sklearn.ensemble import RandomForestRegressor"
   ]
  },
  {
   "cell_type": "code",
   "execution_count": 23,
   "metadata": {},
   "outputs": [],
   "source": [
    "rf = RandomForestRegressor(n_estimators= 10, random_state=42)"
   ]
  },
  {
   "cell_type": "code",
   "execution_count": 24,
   "metadata": {},
   "outputs": [
    {
     "data": {
      "text/plain": [
       "RandomForestRegressor(bootstrap=True, criterion='mse', max_depth=None,\n",
       "                      max_features='auto', max_leaf_nodes=None,\n",
       "                      min_impurity_decrease=0.0, min_impurity_split=None,\n",
       "                      min_samples_leaf=1, min_samples_split=2,\n",
       "                      min_weight_fraction_leaf=0.0, n_estimators=10,\n",
       "                      n_jobs=None, oob_score=False, random_state=42, verbose=0,\n",
       "                      warm_start=False)"
      ]
     },
     "execution_count": 24,
     "metadata": {},
     "output_type": "execute_result"
    }
   ],
   "source": [
    "rf.fit(train_features, train_labels)"
   ]
  },
  {
   "cell_type": "code",
   "execution_count": 25,
   "metadata": {},
   "outputs": [],
   "source": [
    "import numpy as np"
   ]
  },
  {
   "cell_type": "code",
   "execution_count": 26,
   "metadata": {},
   "outputs": [],
   "source": [
    "predictions = rf.predict(test_features)"
   ]
  },
  {
   "cell_type": "code",
   "execution_count": 27,
   "metadata": {},
   "outputs": [],
   "source": [
    "errors = abs(predictions - test_labels)"
   ]
  },
  {
   "cell_type": "code",
   "execution_count": 28,
   "metadata": {},
   "outputs": [
    {
     "name": "stdout",
     "output_type": "stream",
     "text": [
      "Mean Absolute Error: 0.15\n"
     ]
    }
   ],
   "source": [
    "print('Mean Absolute Error:', round(np.mean(errors), 2))"
   ]
  },
  {
   "cell_type": "code",
   "execution_count": 29,
   "metadata": {},
   "outputs": [
    {
     "data": {
      "text/plain": [
       "['ID', 'open', 'high', 'low', 'close', 'volume']"
      ]
     },
     "execution_count": 29,
     "metadata": {},
     "output_type": "execute_result"
    }
   ],
   "source": [
    "feature_list = list(x.columns)\n",
    "feature_list"
   ]
  },
  {
   "cell_type": "code",
   "execution_count": 30,
   "metadata": {},
   "outputs": [],
   "source": [
    "importances = list(rf.feature_importances_)\n"
   ]
  },
  {
   "cell_type": "code",
   "execution_count": 31,
   "metadata": {},
   "outputs": [],
   "source": [
    "feature_importances = [(feature, round(importance, 2)) for feature, importance in zip(feature_list, importances)]\n"
   ]
  },
  {
   "cell_type": "code",
   "execution_count": 32,
   "metadata": {},
   "outputs": [],
   "source": [
    "feature_importances = sorted(feature_importances, key = lambda x: x[1], reverse = True)"
   ]
  },
  {
   "cell_type": "code",
   "execution_count": 33,
   "metadata": {},
   "outputs": [
    {
     "name": "stdout",
     "output_type": "stream",
     "text": [
      "Variable: close                Importance: 0.81\n",
      "Variable: ID                   Importance: 0.08\n",
      "Variable: low                  Importance: 0.06\n",
      "Variable: high                 Importance: 0.05\n",
      "Variable: open                 Importance: 0.0\n",
      "Variable: volume               Importance: 0.0\n"
     ]
    }
   ],
   "source": [
    "[print('Variable: {:20} Importance: {}'.format(*pair)) for pair in feature_importances];"
   ]
  },
  {
   "cell_type": "markdown",
   "metadata": {},
   "source": [
    "Assignemnt 4: Q2: Selected a dataset and modeled it by guessing a pdf that matches its histogram. Then we found the most likely parameters of pdf using MLE.\n",
    "\n",
    "Dataset: Monthwise visits to New Zealand from various countries across the globe.\n",
    "\n",
    "Note: Dataset manipulated to decimal points by the author for study purpose\n",
    "\n",
    "METHOD OF MOMENTS:\n",
    "\n",
    "Gamma Distribution\n"
   ]
  },
  {
   "cell_type": "code",
   "execution_count": null,
   "metadata": {},
   "outputs": [],
   "source": []
  },
  {
   "cell_type": "code",
   "execution_count": 35,
   "metadata": {},
   "outputs": [],
   "source": [
    "import pandas as pd"
   ]
  },
  {
   "cell_type": "code",
   "execution_count": 36,
   "metadata": {},
   "outputs": [
    {
     "data": {
      "text/html": [
       "<div>\n",
       "<style scoped>\n",
       "    .dataframe tbody tr th:only-of-type {\n",
       "        vertical-align: middle;\n",
       "    }\n",
       "\n",
       "    .dataframe tbody tr th {\n",
       "        vertical-align: top;\n",
       "    }\n",
       "\n",
       "    .dataframe thead th {\n",
       "        text-align: right;\n",
       "    }\n",
       "</style>\n",
       "<table border=\"1\" class=\"dataframe\">\n",
       "  <thead>\n",
       "    <tr style=\"text-align: right;\">\n",
       "      <th></th>\n",
       "      <th>Australia</th>\n",
       "      <th>Cook Islands</th>\n",
       "      <th>Fiji</th>\n",
       "      <th>Samoa</th>\n",
       "      <th>ChinaPRo</th>\n",
       "      <th>India</th>\n",
       "      <th>Thailand</th>\n",
       "      <th>UK</th>\n",
       "      <th>USA</th>\n",
       "    </tr>\n",
       "    <tr>\n",
       "      <th>Month</th>\n",
       "      <th></th>\n",
       "      <th></th>\n",
       "      <th></th>\n",
       "      <th></th>\n",
       "      <th></th>\n",
       "      <th></th>\n",
       "      <th></th>\n",
       "      <th></th>\n",
       "      <th></th>\n",
       "    </tr>\n",
       "  </thead>\n",
       "  <tbody>\n",
       "    <tr>\n",
       "      <th>1998M09</th>\n",
       "      <td>29.028</td>\n",
       "      <td>7.54</td>\n",
       "      <td>29.71</td>\n",
       "      <td>8.19</td>\n",
       "      <td>10.76</td>\n",
       "      <td>7.46</td>\n",
       "      <td>10.82</td>\n",
       "      <td>14.496</td>\n",
       "      <td>51.453333</td>\n",
       "    </tr>\n",
       "    <tr>\n",
       "      <th>1998M10</th>\n",
       "      <td>28.204</td>\n",
       "      <td>6.43</td>\n",
       "      <td>23.48</td>\n",
       "      <td>6.96</td>\n",
       "      <td>11.53</td>\n",
       "      <td>9.46</td>\n",
       "      <td>10.12</td>\n",
       "      <td>9.581</td>\n",
       "      <td>41.300000</td>\n",
       "    </tr>\n",
       "    <tr>\n",
       "      <th>1998M11</th>\n",
       "      <td>21.173</td>\n",
       "      <td>4.40</td>\n",
       "      <td>16.73</td>\n",
       "      <td>6.40</td>\n",
       "      <td>12.83</td>\n",
       "      <td>12.41</td>\n",
       "      <td>6.52</td>\n",
       "      <td>5.140</td>\n",
       "      <td>28.006667</td>\n",
       "    </tr>\n",
       "    <tr>\n",
       "      <th>1998M12</th>\n",
       "      <td>23.630</td>\n",
       "      <td>6.60</td>\n",
       "      <td>18.86</td>\n",
       "      <td>13.83</td>\n",
       "      <td>17.63</td>\n",
       "      <td>24.41</td>\n",
       "      <td>8.73</td>\n",
       "      <td>6.340</td>\n",
       "      <td>32.946667</td>\n",
       "    </tr>\n",
       "    <tr>\n",
       "      <th>1999M01</th>\n",
       "      <td>25.763</td>\n",
       "      <td>8.42</td>\n",
       "      <td>25.96</td>\n",
       "      <td>20.52</td>\n",
       "      <td>18.42</td>\n",
       "      <td>25.45</td>\n",
       "      <td>8.33</td>\n",
       "      <td>5.410</td>\n",
       "      <td>33.526667</td>\n",
       "    </tr>\n",
       "  </tbody>\n",
       "</table>\n",
       "</div>"
      ],
      "text/plain": [
       "         Australia  Cook Islands   Fiji  Samoa  ChinaPRo  India  Thailand  \\\n",
       "Month                                                                       \n",
       "1998M09     29.028          7.54  29.71   8.19     10.76   7.46     10.82   \n",
       "1998M10     28.204          6.43  23.48   6.96     11.53   9.46     10.12   \n",
       "1998M11     21.173          4.40  16.73   6.40     12.83  12.41      6.52   \n",
       "1998M12     23.630          6.60  18.86  13.83     17.63  24.41      8.73   \n",
       "1999M01     25.763          8.42  25.96  20.52     18.42  25.45      8.33   \n",
       "\n",
       "             UK        USA  \n",
       "Month                       \n",
       "1998M09  14.496  51.453333  \n",
       "1998M10   9.581  41.300000  \n",
       "1998M11   5.140  28.006667  \n",
       "1998M12   6.340  32.946667  \n",
       "1999M01   5.410  33.526667  "
      ]
     },
     "execution_count": 36,
     "metadata": {},
     "output_type": "execute_result"
    }
   ],
   "source": [
    "precip = pd.read_csv(\"trial.csv\", index_col=0, na_values='NA')\n",
    "precip.head()"
   ]
  },
  {
   "cell_type": "code",
   "execution_count": 37,
   "metadata": {},
   "outputs": [],
   "source": [
    "import numpy as np\n",
    "import matplotlib.pyplot as plt\n",
    "%matplotlib inline"
   ]
  },
  {
   "cell_type": "markdown",
   "metadata": {},
   "source": [
    "Plotting Histograms\n"
   ]
  },
  {
   "cell_type": "code",
   "execution_count": 38,
   "metadata": {},
   "outputs": [
    {
     "data": {
      "image/png": "[encoded data removed]",
      "text/plain": [
       "<Figure size 432x288 with 9 Axes>"
      ]
     },
     "metadata": {
      "needs_background": "light"
     },
     "output_type": "display_data"
    }
   ],
   "source": [
    "_ = precip.hist(sharex=True, sharey=True, grid=False)\n",
    "plt.tight_layout()"
   ]
  },
  {
   "cell_type": "code",
   "execution_count": 39,
   "metadata": {},
   "outputs": [
    {
     "data": {
      "text/plain": [
       "Australia       28.766206\n",
       "Cook Islands    12.215824\n",
       "Fiji            26.674294\n",
       "Samoa           13.570471\n",
       "ChinaPRo        53.344529\n",
       "India           26.078765\n",
       "Thailand        14.522529\n",
       "UK               9.642753\n",
       "USA             42.705020\n",
       "dtype: float64"
      ]
     },
     "execution_count": 39,
     "metadata": {},
     "output_type": "execute_result"
    }
   ],
   "source": [
    "precip_mean = precip.mean()\n",
    "precip_mean"
   ]
  },
  {
   "cell_type": "code",
   "execution_count": 40,
   "metadata": {},
   "outputs": [
    {
     "data": {
      "text/plain": [
       "Australia         36.419343\n",
       "Cook Islands      30.831699\n",
       "Fiji             115.612306\n",
       "Samoa             42.165213\n",
       "ChinaPRo        1141.301749\n",
       "India            348.524768\n",
       "Thailand          34.993241\n",
       "UK                22.995160\n",
       "USA              170.718623\n",
       "dtype: float64"
      ]
     },
     "execution_count": 40,
     "metadata": {},
     "output_type": "execute_result"
    }
   ],
   "source": [
    "precip_var = precip.var()\n",
    "precip_var"
   ]
  },
  {
   "cell_type": "code",
   "execution_count": 41,
   "metadata": {},
   "outputs": [],
   "source": [
    "alpha_mom = (precip_mean**2)/(precip_var)\n",
    "beta_mom =(precip_var)/(precip_mean)"
   ]
  },
  {
   "cell_type": "code",
   "execution_count": 42,
   "metadata": {},
   "outputs": [
    {
     "data": {
      "text/plain": [
       "(Australia       22.721294\n",
       " Cook Islands     4.840030\n",
       " Fiji             6.154345\n",
       " Samoa            4.367526\n",
       " ChinaPRo         2.493327\n",
       " India            1.951373\n",
       " Thailand         6.026988\n",
       " UK               4.043576\n",
       " USA             10.682600\n",
       " dtype: float64, Australia        1.266046\n",
       " Cook Islands     2.523915\n",
       " Fiji             4.334222\n",
       " Samoa            3.107130\n",
       " ChinaPRo        21.394916\n",
       " India           13.364313\n",
       " Thailand         2.409583\n",
       " UK               2.384709\n",
       " USA              3.997624\n",
       " dtype: float64)"
      ]
     },
     "execution_count": 42,
     "metadata": {},
     "output_type": "execute_result"
    }
   ],
   "source": [
    "alpha_mom, beta_mom"
   ]
  },
  {
   "cell_type": "code",
   "execution_count": 43,
   "metadata": {},
   "outputs": [
    {
     "name": "stderr",
     "output_type": "stream",
     "text": [
      "C:\\ProgramData\\Anaconda3\\lib\\site-packages\\pandas\\plotting\\_core.py:2477: MatplotlibDeprecationWarning: \n",
      "The 'normed' kwarg was deprecated in Matplotlib 2.1 and will be removed in 3.1. Use 'density' instead.\n",
      "  ax.hist(values, bins=bins, **kwds)\n"
     ]
    },
    {
     "data": {
      "text/plain": [
       "[<matplotlib.lines.Line2D at 0x2d42a695748>]"
      ]
     },
     "execution_count": 43,
     "metadata": {},
     "output_type": "execute_result"
    },
    {
     "data": {
      "image/png": "[encoded data removed]",
      "text/plain": [
       "<Figure size 432x288 with 1 Axes>"
      ]
     },
     "metadata": {
      "needs_background": "light"
     },
     "output_type": "display_data"
    }
   ],
   "source": [
    "from scipy.stats.distributions import gamma\n",
    "\n",
    "precip.Fiji.hist(normed=True, bins=20)\n",
    "plt.plot(np.linspace(0, 10), gamma.pdf(np.linspace(0, 10), alpha_mom[0], beta_mom[0]))"
   ]
  },
  {
   "cell_type": "code",
   "execution_count": 44,
   "metadata": {},
   "outputs": [
    {
     "name": "stderr",
     "output_type": "stream",
     "text": [
      "C:\\ProgramData\\Anaconda3\\lib\\site-packages\\pandas\\plotting\\_core.py:2410: MatplotlibDeprecationWarning: \n",
      "The 'normed' kwarg was deprecated in Matplotlib 2.1 and will be removed in 3.1. Use 'density' instead.\n",
      "  ax.hist(data[col].dropna().values, bins=bins, **kwds)\n"
     ]
    },
    {
     "data": {
      "image/png": "[encoded data removed]",
      "text/plain": [
       "<Figure size 864x576 with 9 Axes>"
      ]
     },
     "metadata": {
      "needs_background": "light"
     },
     "output_type": "display_data"
    }
   ],
   "source": [
    "axs = precip.hist(normed=True, figsize=(12, 8), sharex=True, sharey=True, bins=15, grid=True)\n",
    "for ax in axs.ravel():\n",
    "    m = ax.get_title()\n",
    "    x = np.linspace(*ax.get_xlim())\n",
    "    ax.plot(x, gamma.pdf(x, alpha_mom[m], beta_mom[m]))\n",
    "    label = 'alpha = {0:.2f}\\nbeta = {1:.2f}'.format(alpha_mom[m], beta_mom[m])\n",
    "    ax.annotate(label, xy=(10, 0.2))\n",
    "plt.tight_layout()"
   ]
  },
  {
   "cell_type": "markdown",
   "metadata": {},
   "source": [
    "MAXIMUM LIKELIHOOD ESTIMATION\n",
    "\n",
    "Avoiding the math, a bettter model\n"
   ]
  },
  {
   "cell_type": "code",
   "execution_count": 45,
   "metadata": {},
   "outputs": [],
   "source": [
    "import numpy as np\n",
    "import matplotlib.pyplot as plt\n",
    "%matplotlib inline"
   ]
  },
  {
   "cell_type": "code",
   "execution_count": 46,
   "metadata": {},
   "outputs": [],
   "source": [
    "from scipy.optimize import newton"
   ]
  },
  {
   "cell_type": "code",
   "execution_count": 47,
   "metadata": {},
   "outputs": [],
   "source": [
    "from scipy.special import psi, polygamma\n",
    "\n",
    "dlgamma = lambda m, log_mean, mean_log: np.log(m) - psi(m) - log_mean + mean_log\n",
    "dl2gamma = lambda m, *args: 1./m - polygamma(1, m)"
   ]
  },
  {
   "cell_type": "code",
   "execution_count": 48,
   "metadata": {},
   "outputs": [],
   "source": [
    "log_mean = precip.mean().apply(np.log)\n",
    "mean_log = precip.apply(np.log).mean()"
   ]
  },
  {
   "cell_type": "code",
   "execution_count": 49,
   "metadata": {},
   "outputs": [
    {
     "data": {
      "text/plain": [
       "11.181004172750377"
      ]
     },
     "execution_count": 49,
     "metadata": {},
     "output_type": "execute_result"
    }
   ],
   "source": [
    "alpha_mle = newton(dlgamma, 2, dl2gamma, args=(log_mean[-1], mean_log[-1]))\n",
    "alpha_mle"
   ]
  },
  {
   "cell_type": "code",
   "execution_count": 50,
   "metadata": {},
   "outputs": [
    {
     "data": {
      "text/plain": [
       "0.26181943657747486"
      ]
     },
     "execution_count": 50,
     "metadata": {},
     "output_type": "execute_result"
    }
   ],
   "source": [
    "beta_mle = alpha_mle/precip.mean()[-1]\n",
    "beta_mle"
   ]
  },
  {
   "cell_type": "code",
   "execution_count": 51,
   "metadata": {},
   "outputs": [
    {
     "data": {
      "text/plain": [
       "[<matplotlib.lines.Line2D at 0x2d42aebb9b0>]"
      ]
     },
     "execution_count": 51,
     "metadata": {},
     "output_type": "execute_result"
    },
    {
     "data": {
      "image/png": "[encoded data removed]",
      "text/plain": [
       "<Figure size 432x288 with 1 Axes>"
      ]
     },
     "metadata": {
      "needs_background": "light"
     },
     "output_type": "display_data"
    }
   ],
   "source": [
    "India = precip.India\n",
    "India.hist(normed=True, bins=10, grid=False)\n",
    "x = np.linspace(0, India.max())\n",
    "plt.plot(x, gamma.pdf(x, alpha_mom[-1], beta_mom[-1]), 'm-')\n",
    "plt.plot(x, gamma.pdf(x, alpha_mle, beta_mle), 'r--')"
   ]
  },
  {
   "cell_type": "code",
   "execution_count": 52,
   "metadata": {},
   "outputs": [
    {
     "data": {
      "text/plain": [
       "(1.0929998394333613, 5.541828308398924, 18.789463678265147)"
      ]
     },
     "execution_count": 52,
     "metadata": {},
     "output_type": "execute_result"
    }
   ],
   "source": [
    "from scipy.stats import gamma\n",
    "\n",
    "gamma.fit(precip.India)"
   ]
  },
  {
   "cell_type": "markdown",
   "metadata": {},
   "source": [
    "running test\n"
   ]
  },
  {
   "cell_type": "code",
   "execution_count": 53,
   "metadata": {},
   "outputs": [],
   "source": [
    "import numpy as np\n",
    "import scipy.stats as st\n",
    "import statsmodels.datasets\n",
    "import matplotlib.pyplot as plt\n",
    "%matplotlib inline\n",
    "data = statsmodels.datasets.heart.load_pandas().data"
   ]
  },
  {
   "cell_type": "code",
   "execution_count": 54,
   "metadata": {},
   "outputs": [
    {
     "data": {
      "text/plain": [
       "(5.56, 20.518764705882358)"
      ]
     },
     "execution_count": 54,
     "metadata": {},
     "output_type": "execute_result"
    }
   ],
   "source": [
    "dist = st.expon\n",
    "args = dist.fit(India)\n",
    "args"
   ]
  },
  {
   "cell_type": "code",
   "execution_count": 55,
   "metadata": {},
   "outputs": [
    {
     "data": {
      "text/plain": [
       "KstestResult(statistic=0.07561852524448548, pvalue=0.27214403353328415)"
      ]
     },
     "execution_count": 55,
     "metadata": {},
     "output_type": "execute_result"
    }
   ],
   "source": [
    "st.kstest(India, dist.cdf, args)"
   ]
  },
  {
   "cell_type": "code",
   "execution_count": 56,
   "metadata": {},
   "outputs": [],
   "source": [
    "smax = India.max()\n",
    "days = np.linspace(0., smax, 1000)"
   ]
  },
  {
   "cell_type": "code",
   "execution_count": 57,
   "metadata": {},
   "outputs": [
    {
     "data": {
      "text/plain": [
       "0.03834537453280673"
      ]
     },
     "execution_count": 57,
     "metadata": {},
     "output_type": "execute_result"
    }
   ],
   "source": [
    "smean = India.mean()\n",
    "rate = 1. / smean\n",
    "rate"
   ]
  },
  {
   "cell_type": "code",
   "execution_count": 58,
   "metadata": {},
   "outputs": [],
   "source": [
    "dist_exp = st.expon.pdf(days, scale=1. / rate)\n",
    "nbins = 30"
   ]
  },
  {
   "cell_type": "code",
   "execution_count": 59,
   "metadata": {},
   "outputs": [
    {
     "data": {
      "text/plain": [
       "<matplotlib.legend.Legend at 0x2d42ac790b8>"
      ]
     },
     "execution_count": 59,
     "metadata": {},
     "output_type": "execute_result"
    },
    {
     "data": {
      "image/png": "[encoded data removed]",
      "text/plain": [
       "<Figure size 432x288 with 1 Axes>"
      ]
     },
     "metadata": {
      "needs_background": "light"
     },
     "output_type": "display_data"
    }
   ],
   "source": [
    "dist_fl = dist.pdf(days, *args)\n",
    "nbins = 30\n",
    "fig, ax = plt.subplots(1, 1, figsize=(6, 4))\n",
    "ax.hist(India, nbins)\n",
    "ax.plot(days, dist_exp * len(India) * smax / nbins,\n",
    "        '-r', lw=3, label='exp')\n",
    "ax.plot(days, dist_fl * len(India) * smax / nbins,\n",
    "        '--g', lw=3, label='BS')\n",
    "ax.set_xlabel(\"India\")\n",
    "ax.set_ylabel(\"Months\")\n",
    "ax.legend()"
   ]
  },
  {
   "cell_type": "code",
   "execution_count": null,
   "metadata": {},
   "outputs": [],
   "source": []
  }
 ],
 "metadata": {
  "kernelspec": {
   "display_name": "Python 3",
   "language": "python",
   "name": "python3"
  },
  "language_info": {
   "codemirror_mode": {
    "name": "ipython",
    "version": 3
   },
   "file_extension": ".py",
   "mimetype": "text/x-python",
   "name": "python",
   "nbconvert_exporter": "python",
   "pygments_lexer": "ipython3",
   "version": "3.7.3"
  }
 },
 "nbformat": 4,
 "nbformat_minor": 2
}
