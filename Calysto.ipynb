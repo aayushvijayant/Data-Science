{
 "cells": [
  {
   "cell_type": "code",
   "execution_count": 1,
   "metadata": {
    "colab": {
     "base_uri": "https://localhost:8080/",
     "height": 1000
    },
    "colab_type": "code",
    "id": "hhphfSldca2_",
    "outputId": "d64a5398-c122-4be9-8fc3-70f0970b09ca"
   },
   "outputs": [
    {
     "name": "stdout",
     "output_type": "stream",
     "text": [
      "Collecting calysto\n",
      "\u001b[?25l  Downloading https://files.pythonhosted.org/packages/70/ca/b6417f9745e29f0620391d594d2a9019f1d2e654c8a5d907d86a58649a2e/calysto-1.0.6-py3-none-any.whl (82kB)\n",
      "\r",
      "\u001b[K     |████                            | 10kB 14.2MB/s eta 0:00:01\r",
      "\u001b[K     |████████                        | 20kB 1.8MB/s eta 0:00:01\r",
      "\u001b[K     |███████████▉                    | 30kB 2.6MB/s eta 0:00:01\r",
      "\u001b[K     |███████████████▉                | 40kB 1.7MB/s eta 0:00:01\r",
      "\u001b[K     |███████████████████▊            | 51kB 2.1MB/s eta 0:00:01\r",
      "\u001b[K     |███████████████████████▊        | 61kB 2.5MB/s eta 0:00:01\r",
      "\u001b[K     |███████████████████████████▊    | 71kB 2.9MB/s eta 0:00:01\r",
      "\u001b[K     |███████████████████████████████▋| 81kB 3.3MB/s eta 0:00:01\r",
      "\u001b[K     |████████████████████████████████| 92kB 2.9MB/s \n",
      "\u001b[?25hRequirement already satisfied: ipywidgets in /usr/local/lib/python3.6/dist-packages (from calysto) (7.5.1)\n",
      "Requirement already satisfied: IPython in /usr/local/lib/python3.6/dist-packages (from calysto) (5.5.0)\n",
      "Collecting svgwrite\n",
      "\u001b[?25l  Downloading https://files.pythonhosted.org/packages/4f/2e/f36cfec1da6162055b884e6366074cff18475a9538559ceae0c0bc58e186/svgwrite-1.3.1-py2.py3-none-any.whl (67kB)\n",
      "\u001b[K     |████████████████████████████████| 71kB 8.9MB/s \n",
      "\u001b[?25hCollecting cairosvg\n",
      "\u001b[?25l  Downloading https://files.pythonhosted.org/packages/8e/3a/762f9272c20db092f4d537aaf364dd0770ecf8f7101b58c4e933e99ee2f6/CairoSVG-2.4.2-py3-none-any.whl (50kB)\n",
      "\u001b[K     |████████████████████████████████| 51kB 7.0MB/s \n",
      "\u001b[?25hCollecting metakernel\n",
      "\u001b[?25l  Downloading https://files.pythonhosted.org/packages/ad/a9/0cd74cfbc9c4aeb117bdb7fd9ff12c3890be34ef5c77932e00ef4afaca98/metakernel-0.24.3-py2.py3-none-any.whl (208kB)\n",
      "\u001b[K     |████████████████████████████████| 215kB 52.3MB/s \n",
      "\u001b[?25hRequirement already satisfied: widgetsnbextension~=3.5.0 in /usr/local/lib/python3.6/dist-packages (from ipywidgets->calysto) (3.5.1)\n",
      "Requirement already satisfied: traitlets>=4.3.1 in /usr/local/lib/python3.6/dist-packages (from ipywidgets->calysto) (4.3.3)\n",
      "Requirement already satisfied: ipykernel>=4.5.1 in /usr/local/lib/python3.6/dist-packages (from ipywidgets->calysto) (4.6.1)\n",
      "Requirement already satisfied: nbformat>=4.2.0 in /usr/local/lib/python3.6/dist-packages (from ipywidgets->calysto) (4.4.0)\n",
      "Requirement already satisfied: prompt-toolkit<2.0.0,>=1.0.4 in /usr/local/lib/python3.6/dist-packages (from IPython->calysto) (1.0.18)\n",
      "Requirement already satisfied: setuptools>=18.5 in /usr/local/lib/python3.6/dist-packages (from IPython->calysto) (41.6.0)\n",
      "Requirement already satisfied: simplegeneric>0.8 in /usr/local/lib/python3.6/dist-packages (from IPython->calysto) (0.8.1)\n",
      "Requirement already satisfied: pickleshare in /usr/local/lib/python3.6/dist-packages (from IPython->calysto) (0.7.5)\n",
      "Requirement already satisfied: pygments in /usr/local/lib/python3.6/dist-packages (from IPython->calysto) (2.1.3)\n",
      "Requirement already satisfied: decorator in /usr/local/lib/python3.6/dist-packages (from IPython->calysto) (4.4.1)\n",
      "Requirement already satisfied: pexpect; sys_platform != \"win32\" in /usr/local/lib/python3.6/dist-packages (from IPython->calysto) (4.7.0)\n",
      "Requirement already satisfied: pyparsing>=2.0.1 in /usr/local/lib/python3.6/dist-packages (from svgwrite->calysto) (2.4.5)\n",
      "Collecting cairocffi\n",
      "\u001b[?25l  Downloading https://files.pythonhosted.org/packages/f7/99/b3a2c6393563ccbe081ffcceb359ec27a6227792c5169604c1bd8128031a/cairocffi-1.1.0.tar.gz (68kB)\n",
      "\u001b[K     |████████████████████████████████| 71kB 8.4MB/s \n",
      "\u001b[?25hCollecting tinycss2\n",
      "\u001b[?25l  Downloading https://files.pythonhosted.org/packages/94/2c/4e501f9c351343c8ba10d70b5a7ca97cdab2690af043a6e52ada65b85b6b/tinycss2-1.0.2-py3-none-any.whl (61kB)\n",
      "\u001b[K     |████████████████████████████████| 71kB 8.4MB/s \n",
      "\u001b[?25hCollecting cssselect2\n",
      "  Downloading https://files.pythonhosted.org/packages/c4/a1/1a37602bbcfa2f7c079758f31555776a00a947e43457a3e0110b2165c7d9/cssselect2-0.2.2-py2.py3-none-any.whl\n",
      "Requirement already satisfied: pillow in /usr/local/lib/python3.6/dist-packages (from cairosvg->calysto) (4.3.0)\n",
      "Requirement already satisfied: defusedxml in /usr/local/lib/python3.6/dist-packages (from cairosvg->calysto) (0.6.0)\n",
      "Collecting portalocker\n",
      "  Downloading https://files.pythonhosted.org/packages/91/db/7bc703c0760df726839e0699b7f78a4d8217fdc9c7fcb1b51b39c5a22a4e/portalocker-1.5.2-py2.py3-none-any.whl\n",
      "Collecting ipyparallel\n",
      "\u001b[?25l  Downloading https://files.pythonhosted.org/packages/3f/82/aaa7a357845a98d4028f27c799f0d3bb2fe55fc1247c73dc712b4ae2344c/ipyparallel-6.2.4-py2.py3-none-any.whl (198kB)\n",
      "\u001b[K     |████████████████████████████████| 204kB 52.2MB/s \n",
      "\u001b[?25hRequirement already satisfied: notebook>=4.4.1 in /usr/local/lib/python3.6/dist-packages (from widgetsnbextension~=3.5.0->ipywidgets->calysto) (5.2.2)\n",
      "Requirement already satisfied: six in /usr/local/lib/python3.6/dist-packages (from traitlets>=4.3.1->ipywidgets->calysto) (1.12.0)\n",
      "Requirement already satisfied: ipython-genutils in /usr/local/lib/python3.6/dist-packages (from traitlets>=4.3.1->ipywidgets->calysto) (0.2.0)\n",
      "Requirement already satisfied: jupyter-client in /usr/local/lib/python3.6/dist-packages (from ipykernel>=4.5.1->ipywidgets->calysto) (5.3.4)\n",
      "Requirement already satisfied: tornado>=4.0 in /usr/local/lib/python3.6/dist-packages (from ipykernel>=4.5.1->ipywidgets->calysto) (4.5.3)\n",
      "Requirement already satisfied: jsonschema!=2.5.0,>=2.4 in /usr/local/lib/python3.6/dist-packages (from nbformat>=4.2.0->ipywidgets->calysto) (2.6.0)\n",
      "Requirement already satisfied: jupyter-core in /usr/local/lib/python3.6/dist-packages (from nbformat>=4.2.0->ipywidgets->calysto) (4.6.1)\n",
      "Requirement already satisfied: wcwidth in /usr/local/lib/python3.6/dist-packages (from prompt-toolkit<2.0.0,>=1.0.4->IPython->calysto) (0.1.7)\n",
      "Requirement already satisfied: ptyprocess>=0.5 in /usr/local/lib/python3.6/dist-packages (from pexpect; sys_platform != \"win32\"->IPython->calysto) (0.6.0)\n",
      "Requirement already satisfied: cffi>=1.1.0 in /usr/local/lib/python3.6/dist-packages (from cairocffi->cairosvg->calysto) (1.13.2)\n",
      "Requirement already satisfied: webencodings>=0.4 in /usr/local/lib/python3.6/dist-packages (from tinycss2->cairosvg->calysto) (0.5.1)\n",
      "Requirement already satisfied: olefile in /usr/local/lib/python3.6/dist-packages (from pillow->cairosvg->calysto) (0.46)\n",
      "Requirement already satisfied: pyzmq>=13 in /usr/local/lib/python3.6/dist-packages (from ipyparallel->metakernel->calysto) (17.0.0)\n",
      "Requirement already satisfied: python-dateutil>=2.1 in /usr/local/lib/python3.6/dist-packages (from ipyparallel->metakernel->calysto) (2.6.1)\n",
      "Requirement already satisfied: jinja2 in /usr/local/lib/python3.6/dist-packages (from notebook>=4.4.1->widgetsnbextension~=3.5.0->ipywidgets->calysto) (2.10.3)\n",
      "Requirement already satisfied: terminado>=0.3.3; sys_platform != \"win32\" in /usr/local/lib/python3.6/dist-packages (from notebook>=4.4.1->widgetsnbextension~=3.5.0->ipywidgets->calysto) (0.8.3)\n",
      "Requirement already satisfied: nbconvert in /usr/local/lib/python3.6/dist-packages (from notebook>=4.4.1->widgetsnbextension~=3.5.0->ipywidgets->calysto) (5.6.1)\n",
      "Requirement already satisfied: pycparser in /usr/local/lib/python3.6/dist-packages (from cffi>=1.1.0->cairocffi->cairosvg->calysto) (2.19)\n",
      "Requirement already satisfied: MarkupSafe>=0.23 in /usr/local/lib/python3.6/dist-packages (from jinja2->notebook>=4.4.1->widgetsnbextension~=3.5.0->ipywidgets->calysto) (1.1.1)\n",
      "Requirement already satisfied: mistune<2,>=0.8.1 in /usr/local/lib/python3.6/dist-packages (from nbconvert->notebook>=4.4.1->widgetsnbextension~=3.5.0->ipywidgets->calysto) (0.8.4)\n",
      "Requirement already satisfied: pandocfilters>=1.4.1 in /usr/local/lib/python3.6/dist-packages (from nbconvert->notebook>=4.4.1->widgetsnbextension~=3.5.0->ipywidgets->calysto) (1.4.2)\n",
      "Requirement already satisfied: testpath in /usr/local/lib/python3.6/dist-packages (from nbconvert->notebook>=4.4.1->widgetsnbextension~=3.5.0->ipywidgets->calysto) (0.4.4)\n",
      "Requirement already satisfied: bleach in /usr/local/lib/python3.6/dist-packages (from nbconvert->notebook>=4.4.1->widgetsnbextension~=3.5.0->ipywidgets->calysto) (3.1.0)\n",
      "Requirement already satisfied: entrypoints>=0.2.2 in /usr/local/lib/python3.6/dist-packages (from nbconvert->notebook>=4.4.1->widgetsnbextension~=3.5.0->ipywidgets->calysto) (0.3)\n",
      "Building wheels for collected packages: cairocffi\n",
      "  Building wheel for cairocffi (setup.py) ... \u001b[?25l\u001b[?25hdone\n",
      "  Created wheel for cairocffi: filename=cairocffi-1.1.0-cp36-none-any.whl size=88591 sha256=208774177921f6eec0839843eb35155fac45291b834c5e778d744a454df2cf81\n",
      "  Stored in directory: /root/.cache/pip/wheels/11/5e/47/167d9dfd5fa5850dd0cd3db80afe6db46e620edec3419dce5a\n",
      "Successfully built cairocffi\n",
      "Installing collected packages: svgwrite, cairocffi, tinycss2, cssselect2, cairosvg, portalocker, ipyparallel, metakernel, calysto\n",
      "Successfully installed cairocffi-1.1.0 cairosvg-2.4.2 calysto-1.0.6 cssselect2-0.2.2 ipyparallel-6.2.4 metakernel-0.24.3 portalocker-1.5.2 svgwrite-1.3.1 tinycss2-1.0.2\n"
     ]
    }
   ],
   "source": [
    "pip install calysto"
   ]
  },
  {
   "cell_type": "markdown",
   "metadata": {
    "colab_type": "text",
    "id": "DP54IEcEchlM"
   },
   "source": []
  },
  {
   "cell_type": "code",
   "execution_count": 32,
   "metadata": {
    "colab": {
     "base_uri": "https://localhost:8080/",
     "height": 153
    },
    "colab_type": "code",
    "id": "IomuoR9tciu4",
    "outputId": "b643811e-27c2-45ef-8129-76c98fddca1f"
   },
   "outputs": [
    {
     "name": "stdout",
     "output_type": "stream",
     "text": [
      "Conx using seed: 1575457480.919897\n"
     ]
    },
    {
     "data": {
      "text/plain": [
       "Layer 'output': (Kind: Output, Size: 1, Active: 1, Frozen: 0)\n",
       "Target    : 0.00  \n",
       "Activation: 0.00  \n",
       "Layer 'hidden': (Kind: Hidden, Size: 2, Active: 1, Frozen: 0)\n",
       "Activation: 0.00  0.00  \n",
       "Layer 'input': (Kind: Input, Size: 2, Active: 1, Frozen: 0)\n",
       "Activation: 0.00  0.00  "
      ]
     },
     "execution_count": 32,
     "metadata": {
      "tags": []
     },
     "output_type": "execute_result"
    }
   ],
   "source": [
    "from calysto.ai.conx import *\n",
    "\n",
    "net = Network()\n",
    "net.addLayers(2, 2, 1)\n",
    "net"
   ]
  },
  {
   "cell_type": "code",
   "execution_count": 33,
   "metadata": {
    "colab": {
     "base_uri": "https://localhost:8080/",
     "height": 34
    },
    "colab_type": "code",
    "id": "YHlpsp0Hc9E7",
    "outputId": "24d21945-b9e5-4244-b25e-315899ac62fe"
   },
   "outputs": [
    {
     "data": {
      "text/plain": [
       "array('d', [0.5167926641414708])"
      ]
     },
     "execution_count": 33,
     "metadata": {
      "tags": []
     },
     "output_type": "execute_result"
    }
   ],
   "source": [
    "net.propagate(input=[0, 0])"
   ]
  },
  {
   "cell_type": "code",
   "execution_count": 34,
   "metadata": {
    "colab": {
     "base_uri": "https://localhost:8080/",
     "height": 102
    },
    "colab_type": "code",
    "id": "yK-0IMZ0c9LE",
    "outputId": "b22c6b56-a523-44ab-d239-639f9095f31d"
   },
   "outputs": [
    {
     "name": "stdout",
     "output_type": "stream",
     "text": [
      "Combinations and their accuracy\n",
      "[0, 0] array('d', [0.5167926641414708])\n",
      "[0, 1] array('d', [0.5170037632258968])\n",
      "[1, 0] array('d', [0.5169093306152311])\n",
      "[1, 1] array('d', [0.5171198610715386])\n"
     ]
    }
   ],
   "source": [
    "print(\"Combinations and their accuracy\")\n",
    "\n",
    "for pattern in [[0, 0], [0, 1], [1, 0], [1, 1]]:\n",
    "    print(pattern, net.propagate(input=pattern))"
   ]
  },
  {
   "cell_type": "code",
   "execution_count": 35,
   "metadata": {
    "colab": {
     "base_uri": "https://localhost:8080/",
     "height": 1000
    },
    "colab_type": "code",
    "id": "Oa5Ra6Src9N8",
    "outputId": "e3bcaefb-b45a-471c-bd03-eda2f16350e3"
   },
   "outputs": [
    {
     "name": "stdout",
     "output_type": "stream",
     "text": [
      "provide training patterns for inputs and outputs.........\n",
      "setting learning parameters.....\n",
      "and learn\n",
      "Epoch #     1 | TSS Error: 1.1799 | Correct: 0.0000 | RMS Error: 0.5431\n",
      "Epoch #     2 | TSS Error: 1.1222 | Correct: 0.0000 | RMS Error: 0.5297\n",
      "Epoch #     3 | TSS Error: 1.0711 | Correct: 0.0000 | RMS Error: 0.5175\n",
      "Epoch #     4 | TSS Error: 1.1640 | Correct: 0.0000 | RMS Error: 0.5394\n",
      "Epoch #     5 | TSS Error: 1.0806 | Correct: 0.0000 | RMS Error: 0.5198\n",
      "Epoch #     6 | TSS Error: 1.0596 | Correct: 0.0000 | RMS Error: 0.5147\n",
      "Epoch #     7 | TSS Error: 1.1647 | Correct: 0.0000 | RMS Error: 0.5396\n",
      "Epoch #     8 | TSS Error: 1.0398 | Correct: 0.0000 | RMS Error: 0.5099\n",
      "Epoch #     9 | TSS Error: 1.0316 | Correct: 0.0000 | RMS Error: 0.5078\n",
      "Epoch #    10 | TSS Error: 1.0792 | Correct: 0.0000 | RMS Error: 0.5194\n",
      "Epoch #    11 | TSS Error: 1.1784 | Correct: 0.0000 | RMS Error: 0.5428\n",
      "Epoch #    12 | TSS Error: 1.0386 | Correct: 0.0000 | RMS Error: 0.5096\n",
      "Epoch #    13 | TSS Error: 1.0611 | Correct: 0.0000 | RMS Error: 0.5150\n",
      "Epoch #    14 | TSS Error: 1.0561 | Correct: 0.0000 | RMS Error: 0.5138\n",
      "Epoch #    15 | TSS Error: 1.0612 | Correct: 0.0000 | RMS Error: 0.5151\n",
      "Epoch #    16 | TSS Error: 1.0299 | Correct: 0.0000 | RMS Error: 0.5074\n",
      "Epoch #    17 | TSS Error: 1.0520 | Correct: 0.0000 | RMS Error: 0.5128\n",
      "Epoch #    18 | TSS Error: 0.9937 | Correct: 0.0000 | RMS Error: 0.4984\n",
      "Epoch #    19 | TSS Error: 1.2499 | Correct: 0.0000 | RMS Error: 0.5590\n",
      "Epoch #    20 | TSS Error: 1.1446 | Correct: 0.0000 | RMS Error: 0.5349\n",
      "Epoch #    21 | TSS Error: 1.1097 | Correct: 0.0000 | RMS Error: 0.5267\n",
      "Epoch #    22 | TSS Error: 1.0625 | Correct: 0.0000 | RMS Error: 0.5154\n",
      "Epoch #    23 | TSS Error: 1.0632 | Correct: 0.0000 | RMS Error: 0.5156\n",
      "Epoch #    24 | TSS Error: 1.1969 | Correct: 0.0000 | RMS Error: 0.5470\n",
      "Epoch #    25 | TSS Error: 1.0567 | Correct: 0.0000 | RMS Error: 0.5140\n",
      "Epoch #    26 | TSS Error: 1.0532 | Correct: 0.0000 | RMS Error: 0.5131\n",
      "Epoch #    27 | TSS Error: 1.0613 | Correct: 0.0000 | RMS Error: 0.5151\n",
      "Epoch #    28 | TSS Error: 1.1548 | Correct: 0.0000 | RMS Error: 0.5373\n",
      "Epoch #    29 | TSS Error: 1.1664 | Correct: 0.0000 | RMS Error: 0.5400\n",
      "Epoch #    30 | TSS Error: 1.0398 | Correct: 0.0000 | RMS Error: 0.5099\n",
      "Epoch #    31 | TSS Error: 1.2106 | Correct: 0.0000 | RMS Error: 0.5501\n",
      "Epoch #    32 | TSS Error: 1.0818 | Correct: 0.0000 | RMS Error: 0.5200\n",
      "Epoch #    33 | TSS Error: 1.1807 | Correct: 0.0000 | RMS Error: 0.5433\n",
      "Epoch #    34 | TSS Error: 1.0609 | Correct: 0.0000 | RMS Error: 0.5150\n",
      "Epoch #    35 | TSS Error: 1.1162 | Correct: 0.0000 | RMS Error: 0.5282\n",
      "Epoch #    36 | TSS Error: 1.0146 | Correct: 0.0000 | RMS Error: 0.5036\n",
      "Epoch #    37 | TSS Error: 1.0004 | Correct: 0.0000 | RMS Error: 0.5001\n",
      "Epoch #    38 | TSS Error: 1.0632 | Correct: 0.0000 | RMS Error: 0.5156\n",
      "Epoch #    39 | TSS Error: 1.1517 | Correct: 0.0000 | RMS Error: 0.5366\n",
      "Epoch #    40 | TSS Error: 1.0821 | Correct: 0.0000 | RMS Error: 0.5201\n",
      "Epoch #    41 | TSS Error: 1.0540 | Correct: 0.0000 | RMS Error: 0.5133\n",
      "Epoch #    42 | TSS Error: 1.0681 | Correct: 0.0000 | RMS Error: 0.5168\n",
      "Epoch #    43 | TSS Error: 1.0507 | Correct: 0.0000 | RMS Error: 0.5125\n",
      "Epoch #    44 | TSS Error: 1.1257 | Correct: 0.0000 | RMS Error: 0.5305\n",
      "Epoch #    45 | TSS Error: 1.0157 | Correct: 0.0000 | RMS Error: 0.5039\n",
      "Epoch #    46 | TSS Error: 1.0753 | Correct: 0.0000 | RMS Error: 0.5185\n",
      "Epoch #    47 | TSS Error: 1.0394 | Correct: 0.0000 | RMS Error: 0.5097\n",
      "Epoch #    48 | TSS Error: 1.1161 | Correct: 0.0000 | RMS Error: 0.5282\n",
      "Epoch #    49 | TSS Error: 1.0404 | Correct: 0.0000 | RMS Error: 0.5100\n",
      "Epoch #    50 | TSS Error: 1.0405 | Correct: 0.0000 | RMS Error: 0.5100\n",
      "Epoch #    51 | TSS Error: 1.0379 | Correct: 0.0000 | RMS Error: 0.5094\n",
      "Epoch #    52 | TSS Error: 1.0309 | Correct: 0.0000 | RMS Error: 0.5077\n",
      "Epoch #    53 | TSS Error: 1.0341 | Correct: 0.0000 | RMS Error: 0.5085\n",
      "Epoch #    54 | TSS Error: 1.1227 | Correct: 0.0000 | RMS Error: 0.5298\n",
      "Epoch #    55 | TSS Error: 1.0485 | Correct: 0.0000 | RMS Error: 0.5120\n",
      "Epoch #    56 | TSS Error: 1.0333 | Correct: 0.0000 | RMS Error: 0.5083\n",
      "Epoch #    57 | TSS Error: 1.0308 | Correct: 0.0000 | RMS Error: 0.5076\n",
      "Epoch #    58 | TSS Error: 1.0161 | Correct: 0.0000 | RMS Error: 0.5040\n",
      "Epoch #    59 | TSS Error: 1.0089 | Correct: 0.0000 | RMS Error: 0.5022\n",
      "Epoch #    60 | TSS Error: 1.0144 | Correct: 0.0000 | RMS Error: 0.5036\n",
      "Epoch #    61 | TSS Error: 0.9990 | Correct: 0.0000 | RMS Error: 0.4998\n",
      "Epoch #    62 | TSS Error: 0.9942 | Correct: 0.0000 | RMS Error: 0.4985\n",
      "Epoch #    63 | TSS Error: 0.9863 | Correct: 0.0000 | RMS Error: 0.4966\n",
      "Epoch #    64 | TSS Error: 1.0883 | Correct: 0.0000 | RMS Error: 0.5216\n",
      "Epoch #    65 | TSS Error: 1.0870 | Correct: 0.0000 | RMS Error: 0.5213\n",
      "Epoch #    66 | TSS Error: 1.0633 | Correct: 0.0000 | RMS Error: 0.5156\n",
      "Epoch #    67 | TSS Error: 1.0705 | Correct: 0.0000 | RMS Error: 0.5173\n",
      "Epoch #    68 | TSS Error: 1.0069 | Correct: 0.0000 | RMS Error: 0.5017\n",
      "Epoch #    69 | TSS Error: 0.9384 | Correct: 0.0000 | RMS Error: 0.4844\n",
      "Epoch #    70 | TSS Error: 0.9506 | Correct: 0.0000 | RMS Error: 0.4875\n",
      "Epoch #    71 | TSS Error: 0.9545 | Correct: 0.0000 | RMS Error: 0.4885\n",
      "Epoch #    72 | TSS Error: 1.0287 | Correct: 0.0000 | RMS Error: 0.5071\n",
      "Epoch #    73 | TSS Error: 0.9046 | Correct: 0.0000 | RMS Error: 0.4756\n",
      "Epoch #    74 | TSS Error: 0.9466 | Correct: 0.0000 | RMS Error: 0.4865\n",
      "Epoch #    75 | TSS Error: 0.9063 | Correct: 0.0000 | RMS Error: 0.4760\n",
      "Epoch #    76 | TSS Error: 0.9448 | Correct: 0.0000 | RMS Error: 0.4860\n",
      "Epoch #    77 | TSS Error: 0.9349 | Correct: 0.0000 | RMS Error: 0.4835\n",
      "Epoch #    78 | TSS Error: 0.8879 | Correct: 0.0000 | RMS Error: 0.4712\n",
      "Epoch #    79 | TSS Error: 0.9363 | Correct: 0.0000 | RMS Error: 0.4838\n",
      "Epoch #    80 | TSS Error: 0.8739 | Correct: 0.0000 | RMS Error: 0.4674\n",
      "Epoch #    81 | TSS Error: 0.8738 | Correct: 0.0000 | RMS Error: 0.4674\n",
      "Epoch #    82 | TSS Error: 0.8585 | Correct: 0.0000 | RMS Error: 0.4633\n",
      "Epoch #    83 | TSS Error: 0.8810 | Correct: 0.0000 | RMS Error: 0.4693\n",
      "Epoch #    84 | TSS Error: 0.8654 | Correct: 0.0000 | RMS Error: 0.4651\n",
      "Epoch #    85 | TSS Error: 0.8600 | Correct: 0.0000 | RMS Error: 0.4637\n",
      "Epoch #    86 | TSS Error: 0.8729 | Correct: 0.0000 | RMS Error: 0.4671\n",
      "Epoch #    87 | TSS Error: 0.9155 | Correct: 0.0000 | RMS Error: 0.4784\n",
      "Epoch #    88 | TSS Error: 0.8657 | Correct: 0.0000 | RMS Error: 0.4652\n",
      "Epoch #    89 | TSS Error: 0.8646 | Correct: 0.0000 | RMS Error: 0.4649\n",
      "Epoch #    90 | TSS Error: 0.8532 | Correct: 0.0000 | RMS Error: 0.4618\n",
      "Epoch #    91 | TSS Error: 0.8622 | Correct: 0.2500 | RMS Error: 0.4643\n",
      "Epoch #    92 | TSS Error: 0.8524 | Correct: 0.0000 | RMS Error: 0.4616\n",
      "Epoch #    93 | TSS Error: 0.8453 | Correct: 0.0000 | RMS Error: 0.4597\n",
      "Epoch #    94 | TSS Error: 0.8599 | Correct: 0.0000 | RMS Error: 0.4637\n",
      "Epoch #    95 | TSS Error: 0.8470 | Correct: 0.0000 | RMS Error: 0.4602\n",
      "Epoch #    96 | TSS Error: 0.8837 | Correct: 0.2500 | RMS Error: 0.4700\n",
      "Epoch #    97 | TSS Error: 0.8923 | Correct: 0.2500 | RMS Error: 0.4723\n",
      "Epoch #    98 | TSS Error: 0.8619 | Correct: 0.2500 | RMS Error: 0.4642\n",
      "Epoch #    99 | TSS Error: 0.9854 | Correct: 0.0000 | RMS Error: 0.4963\n",
      "Epoch #   100 | TSS Error: 0.9077 | Correct: 0.0000 | RMS Error: 0.4764\n",
      "Epoch #   101 | TSS Error: 0.8732 | Correct: 0.0000 | RMS Error: 0.4672\n",
      "Epoch #   102 | TSS Error: 1.0255 | Correct: 0.2500 | RMS Error: 0.5063\n",
      "Epoch #   103 | TSS Error: 0.9118 | Correct: 0.2500 | RMS Error: 0.4774\n",
      "Epoch #   104 | TSS Error: 0.8406 | Correct: 0.0000 | RMS Error: 0.4584\n",
      "Epoch #   105 | TSS Error: 0.8978 | Correct: 0.0000 | RMS Error: 0.4738\n",
      "Epoch #   106 | TSS Error: 0.8900 | Correct: 0.0000 | RMS Error: 0.4717\n",
      "Epoch #   107 | TSS Error: 0.8801 | Correct: 0.0000 | RMS Error: 0.4691\n",
      "Epoch #   108 | TSS Error: 0.8616 | Correct: 0.0000 | RMS Error: 0.4641\n",
      "Epoch #   109 | TSS Error: 0.8889 | Correct: 0.2500 | RMS Error: 0.4714\n",
      "Epoch #   110 | TSS Error: 0.9424 | Correct: 0.2500 | RMS Error: 0.4854\n",
      "Epoch #   111 | TSS Error: 0.9769 | Correct: 0.0000 | RMS Error: 0.4942\n",
      "Epoch #   112 | TSS Error: 0.8634 | Correct: 0.0000 | RMS Error: 0.4646\n",
      "Epoch #   113 | TSS Error: 0.9376 | Correct: 0.0000 | RMS Error: 0.4841\n",
      "Epoch #   114 | TSS Error: 0.8729 | Correct: 0.0000 | RMS Error: 0.4671\n",
      "Epoch #   115 | TSS Error: 0.9170 | Correct: 0.0000 | RMS Error: 0.4788\n",
      "Epoch #   116 | TSS Error: 0.8919 | Correct: 0.2500 | RMS Error: 0.4722\n",
      "Epoch #   117 | TSS Error: 0.8398 | Correct: 0.0000 | RMS Error: 0.4582\n",
      "Epoch #   118 | TSS Error: 0.8906 | Correct: 0.0000 | RMS Error: 0.4719\n",
      "Epoch #   119 | TSS Error: 0.9029 | Correct: 0.0000 | RMS Error: 0.4751\n",
      "Epoch #   120 | TSS Error: 0.8794 | Correct: 0.0000 | RMS Error: 0.4689\n",
      "Epoch #   121 | TSS Error: 0.9103 | Correct: 0.0000 | RMS Error: 0.4770\n",
      "Epoch #   122 | TSS Error: 0.8357 | Correct: 0.0000 | RMS Error: 0.4571\n",
      "Epoch #   123 | TSS Error: 0.8942 | Correct: 0.2500 | RMS Error: 0.4728\n",
      "Epoch #   124 | TSS Error: 0.9491 | Correct: 0.0000 | RMS Error: 0.4871\n",
      "Epoch #   125 | TSS Error: 0.9227 | Correct: 0.0000 | RMS Error: 0.4803\n",
      "Epoch #   126 | TSS Error: 0.8871 | Correct: 0.0000 | RMS Error: 0.4709\n",
      "Epoch #   127 | TSS Error: 0.9008 | Correct: 0.2500 | RMS Error: 0.4746\n",
      "Epoch #   128 | TSS Error: 0.9132 | Correct: 0.2500 | RMS Error: 0.4778\n",
      "Epoch #   129 | TSS Error: 0.9107 | Correct: 0.2500 | RMS Error: 0.4772\n",
      "Epoch #   130 | TSS Error: 0.8621 | Correct: 0.0000 | RMS Error: 0.4642\n",
      "Epoch #   131 | TSS Error: 0.8529 | Correct: 0.0000 | RMS Error: 0.4618\n",
      "Epoch #   132 | TSS Error: 0.9110 | Correct: 0.0000 | RMS Error: 0.4772\n",
      "Epoch #   133 | TSS Error: 0.9470 | Correct: 0.0000 | RMS Error: 0.4866\n",
      "Epoch #   134 | TSS Error: 0.8422 | Correct: 0.0000 | RMS Error: 0.4589\n",
      "Epoch #   135 | TSS Error: 0.9998 | Correct: 0.2500 | RMS Error: 0.5000\n",
      "Epoch #   136 | TSS Error: 0.9868 | Correct: 0.2500 | RMS Error: 0.4967\n",
      "Epoch #   137 | TSS Error: 0.9273 | Correct: 0.0000 | RMS Error: 0.4815\n",
      "Epoch #   138 | TSS Error: 1.0365 | Correct: 0.0000 | RMS Error: 0.5090\n",
      "Epoch #   139 | TSS Error: 0.9524 | Correct: 0.0000 | RMS Error: 0.4879\n",
      "Epoch #   140 | TSS Error: 0.8868 | Correct: 0.0000 | RMS Error: 0.4709\n",
      "Epoch #   141 | TSS Error: 0.9043 | Correct: 0.2500 | RMS Error: 0.4755\n",
      "Epoch #   142 | TSS Error: 0.9320 | Correct: 0.2500 | RMS Error: 0.4827\n",
      "Epoch #   143 | TSS Error: 0.8514 | Correct: 0.2500 | RMS Error: 0.4613\n",
      "Epoch #   144 | TSS Error: 0.8834 | Correct: 0.0000 | RMS Error: 0.4700\n",
      "Epoch #   145 | TSS Error: 0.8959 | Correct: 0.0000 | RMS Error: 0.4733\n",
      "Epoch #   146 | TSS Error: 0.8585 | Correct: 0.0000 | RMS Error: 0.4633\n",
      "Epoch #   147 | TSS Error: 0.8060 | Correct: 0.0000 | RMS Error: 0.4489\n",
      "Epoch #   148 | TSS Error: 0.8242 | Correct: 0.2500 | RMS Error: 0.4539\n",
      "Epoch #   149 | TSS Error: 0.8625 | Correct: 0.2500 | RMS Error: 0.4644\n",
      "Epoch #   150 | TSS Error: 0.8759 | Correct: 0.2500 | RMS Error: 0.4679\n",
      "Epoch #   151 | TSS Error: 0.8858 | Correct: 0.0000 | RMS Error: 0.4706\n",
      "Epoch #   152 | TSS Error: 0.8279 | Correct: 0.0000 | RMS Error: 0.4549\n",
      "Epoch #   153 | TSS Error: 0.8135 | Correct: 0.0000 | RMS Error: 0.4510\n",
      "Epoch #   154 | TSS Error: 0.8664 | Correct: 0.0000 | RMS Error: 0.4654\n",
      "Epoch #   155 | TSS Error: 0.9241 | Correct: 0.0000 | RMS Error: 0.4807\n",
      "Epoch #   156 | TSS Error: 0.8196 | Correct: 0.0000 | RMS Error: 0.4527\n",
      "Epoch #   157 | TSS Error: 0.8474 | Correct: 0.0000 | RMS Error: 0.4603\n",
      "Epoch #   158 | TSS Error: 0.7544 | Correct: 0.0000 | RMS Error: 0.4343\n",
      "Epoch #   159 | TSS Error: 0.8676 | Correct: 0.2500 | RMS Error: 0.4657\n",
      "Epoch #   160 | TSS Error: 0.7690 | Correct: 0.0000 | RMS Error: 0.4385\n",
      "Epoch #   161 | TSS Error: 0.7124 | Correct: 0.0000 | RMS Error: 0.4220\n",
      "Epoch #   162 | TSS Error: 0.5981 | Correct: 0.0000 | RMS Error: 0.3867\n",
      "Epoch #   163 | TSS Error: 0.4600 | Correct: 0.0000 | RMS Error: 0.3391\n",
      "Epoch #   164 | TSS Error: 0.5093 | Correct: 0.2500 | RMS Error: 0.3568\n",
      "Epoch #   165 | TSS Error: 0.4369 | Correct: 0.0000 | RMS Error: 0.3305\n",
      "Epoch #   166 | TSS Error: 0.5871 | Correct: 0.0000 | RMS Error: 0.3831\n",
      "Epoch #   167 | TSS Error: 0.4500 | Correct: 0.2500 | RMS Error: 0.3354\n",
      "Epoch #   168 | TSS Error: 0.3088 | Correct: 0.2500 | RMS Error: 0.2778\n",
      "Epoch #   169 | TSS Error: 0.2863 | Correct: 0.2500 | RMS Error: 0.2675\n",
      "Epoch #   170 | TSS Error: 0.3037 | Correct: 0.0000 | RMS Error: 0.2755\n",
      "Epoch #   171 | TSS Error: 0.2308 | Correct: 0.5000 | RMS Error: 0.2402\n",
      "Epoch #   172 | TSS Error: 0.1625 | Correct: 0.5000 | RMS Error: 0.2016\n",
      "Epoch #   173 | TSS Error: 0.1771 | Correct: 0.5000 | RMS Error: 0.2104\n",
      "Epoch #   174 | TSS Error: 0.1122 | Correct: 0.7500 | RMS Error: 0.1675\n",
      "Epoch #   175 | TSS Error: 0.1391 | Correct: 0.7500 | RMS Error: 0.1865\n",
      "Epoch #   176 | TSS Error: 0.1225 | Correct: 0.7500 | RMS Error: 0.1750\n",
      "Epoch #   177 | TSS Error: 0.0993 | Correct: 1.0000 | RMS Error: 0.1575\n",
      "Final #   177 | TSS Error: 0.0993 | Correct: 1.0000 | RMS Error: 0.1575\n"
     ]
    }
   ],
   "source": [
    "print(\"provide training patterns for inputs and outputs.........\")\n",
    "net.setInputs([[0.0, 0.0],[1.0, 0.0],[0.0, 1.0],[1.0, 1.0]])\n",
    "net.setOutputs([[0.0],[1.0],[1.0],[0.0]])\n",
    "\n",
    "print(\"setting learning parameters.....\")\n",
    "net.setEpsilon(0.5)\n",
    "net.setTolerance(0.2)\n",
    "net.setReportRate(1)\n",
    "\n",
    "print(\"and learn\")\n",
    "net.train()"
   ]
  },
  {
   "cell_type": "code",
   "execution_count": 36,
   "metadata": {
    "colab": {
     "base_uri": "https://localhost:8080/",
     "height": 102
    },
    "colab_type": "code",
    "id": "pA34nSpGc9QZ",
    "outputId": "d4c007d1-89b2-437c-d958-e05d0c5683ce"
   },
   "outputs": [
    {
     "name": "stdout",
     "output_type": "stream",
     "text": [
      "Again checking for the accuracy for patterns\n",
      "[0, 0] array('d', [0.0840333290495038])\n",
      "[0, 1] array('d', [0.8283348240973767])\n",
      "[1, 0] array('d', [0.8312778045578357])\n",
      "[1, 1] array('d', [0.11086329326025046])\n"
     ]
    }
   ],
   "source": [
    "print(\"Again checking for the accuracy for patterns\")\n",
    "for pattern in [[0, 0], [0, 1], [1, 0], [1, 1]]:\n",
    "    print(pattern, net.propagate(input=pattern))"
   ]
  },
  {
   "cell_type": "code",
   "execution_count": 16,
   "metadata": {
    "colab": {
     "base_uri": "https://localhost:8080/",
     "height": 34
    },
    "colab_type": "code",
    "id": "nTJdVA-WdGhu",
    "outputId": "e488d512-ff4e-4d07-9033-d7bc796c7caf"
   },
   "outputs": [
    {
     "data": {
      "text/plain": [
       "array('d', [0.46142165560876086])"
      ]
     },
     "execution_count": 16,
     "metadata": {
      "tags": []
     },
     "output_type": "execute_result"
    }
   ],
   "source": [
    "net.propagate(input=[0.8, 0.8])"
   ]
  },
  {
   "cell_type": "code",
   "execution_count": 17,
   "metadata": {
    "colab": {
     "base_uri": "https://localhost:8080/",
     "height": 295
    },
    "colab_type": "code",
    "id": "F2lcwoNTdGkG",
    "outputId": "f7fdc31c-95d3-4db9-ab4a-84d7e0023eeb"
   },
   "outputs": [
    {
     "data": {
      "image/png": "[encoded data removed]",
      "text/plain": [
       "<Figure size 432x288 with 1 Axes>"
      ]
     },
     "metadata": {
      "tags": []
     },
     "output_type": "display_data"
    }
   ],
   "source": [
    "import numpy as np\n",
    "import matplotlib.pyplot as plt\n",
    "z = np.zeros((100, 100))\n",
    "\n",
    "for x in range(100):\n",
    "    for y in range(100):\n",
    "        z[x][y] = net.propagate(input=[x/100, y/100])[0]\n",
    "\n",
    "plt.imshow(z, cmap=plt.cm.gray, interpolation='nearest')\n",
    "plt.xlabel(\"input 1\")\n",
    "plt.ylabel(\"input 2\")\n",
    "plt.title(\"Output Activation\")\n",
    "\n",
    "plt.show()"
   ]
  }
 ],
 "metadata": {
  "colab": {
   "collapsed_sections": [],
   "name": "001375926_AayushVijayant_Assignment9B.ipynb",
   "provenance": []
  },
  "kernelspec": {
   "display_name": "Python 3",
   "language": "python",
   "name": "python3"
  },
  "language_info": {
   "codemirror_mode": {
    "name": "ipython",
    "version": 3
   },
   "file_extension": ".py",
   "mimetype": "text/x-python",
   "name": "python",
   "nbconvert_exporter": "python",
   "pygments_lexer": "ipython3",
   "version": "3.7.5"
  }
 },
 "nbformat": 4,
 "nbformat_minor": 1
}
